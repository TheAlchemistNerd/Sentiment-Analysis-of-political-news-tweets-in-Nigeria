{
 "cells": [
  {
   "cell_type": "markdown",
   "id": "enhanced-vehicle",
   "metadata": {
    "papermill": {
     "duration": 0.039433,
     "end_time": "2022-08-25T23:14:31.346579",
     "exception": false,
     "start_time": "2022-08-25T23:14:31.307146",
     "status": "completed"
    },
    "tags": []
   },
   "source": [
    "<h1>Nigerian Political Tweets</h1>\n",
    "<h2> Sentiment analysis </h2>\n",
    "\n",
    "<a id=\"0\"></a>\n",
    "\n",
    "### Content  \n",
    "\n",
    "* <a href='#1'>Analysis preparation</a>  \n",
    "* <a href='#2'>Feature engineering</a>  \n",
    "* <a href='#3'>Sentiment analysis - a data exploration</a>  \n",
    "* <a href='#4'>Use sentiment polarity features for labeling</a>    \n",
    "* <a href='#5'>Train a supervised model and validate it</a>    \n",
    "* <a href='#6'>Conclusions and future work</a>  \n",
    "\n",
    "\n",
    "\n"
   ]
  },
  {
   "cell_type": "markdown",
   "id": "rational-magic",
   "metadata": {
    "papermill": {
     "duration": 0.036933,
     "end_time": "2022-08-25T23:14:31.419244",
     "exception": false,
     "start_time": "2022-08-25T23:14:31.382311",
     "status": "completed"
    },
    "tags": []
   },
   "source": [
    "## <a id=\"1\">Analysis preparation</a>\n",
    "\n",
    "We install some missing packages:\n",
    "* vaderSentiment\n",
    "* afinn"
   ]
  },
  {
   "cell_type": "code",
   "execution_count": 1,
   "id": "breeding-champagne",
   "metadata": {
    "_kg_hide-input": true,
    "_kg_hide-output": true,
    "execution": {
     "iopub.execute_input": "2022-08-25T23:14:31.500300Z",
     "iopub.status.busy": "2022-08-25T23:14:31.499423Z",
     "iopub.status.idle": "2022-08-25T23:14:53.017572Z",
     "shell.execute_reply": "2022-08-25T23:14:53.016556Z",
     "shell.execute_reply.started": "2022-08-25T23:10:58.186641Z"
    },
    "papermill": {
     "duration": 21.563171,
     "end_time": "2022-08-25T23:14:53.017774",
     "exception": false,
     "start_time": "2022-08-25T23:14:31.454603",
     "status": "completed"
    },
    "tags": []
   },
   "outputs": [
    {
     "name": "stdout",
     "output_type": "stream",
     "text": [
      "Collecting vaderSentiment\r\n",
      "  Downloading vaderSentiment-3.3.2-py2.py3-none-any.whl (125 kB)\r\n",
      "\u001b[K     |████████████████████████████████| 125 kB 284 kB/s \r\n",
      "\u001b[?25hRequirement already satisfied: requests in /opt/conda/lib/python3.7/site-packages (from vaderSentiment) (2.25.1)\r\n",
      "Requirement already satisfied: certifi>=2017.4.17 in /opt/conda/lib/python3.7/site-packages (from requests->vaderSentiment) (2020.12.5)\r\n",
      "Requirement already satisfied: urllib3<1.27,>=1.21.1 in /opt/conda/lib/python3.7/site-packages (from requests->vaderSentiment) (1.26.4)\r\n",
      "Requirement already satisfied: chardet<5,>=3.0.2 in /opt/conda/lib/python3.7/site-packages (from requests->vaderSentiment) (4.0.0)\r\n",
      "Requirement already satisfied: idna<3,>=2.5 in /opt/conda/lib/python3.7/site-packages (from requests->vaderSentiment) (2.10)\r\n",
      "Installing collected packages: vaderSentiment\r\n",
      "Successfully installed vaderSentiment-3.3.2\r\n",
      "Collecting afinn\r\n",
      "  Downloading afinn-0.1.tar.gz (52 kB)\r\n",
      "\u001b[K     |████████████████████████████████| 52 kB 221 kB/s \r\n",
      "\u001b[?25hBuilding wheels for collected packages: afinn\r\n",
      "  Building wheel for afinn (setup.py) ... \u001b[?25l-\b \b\\\b \bdone\r\n",
      "\u001b[?25h  Created wheel for afinn: filename=afinn-0.1-py3-none-any.whl size=53449 sha256=6467fb7a48d7eeb0ad3806284296f653cb808373f3be943259bd25b5641e1faf\r\n",
      "  Stored in directory: /root/.cache/pip/wheels/9d/16/3a/9f0953027434eab5dadf3f33ab3298fa95afa8292fcf7aba75\r\n",
      "Successfully built afinn\r\n",
      "Installing collected packages: afinn\r\n",
      "Successfully installed afinn-0.1\r\n"
     ]
    }
   ],
   "source": [
    "!pip install vaderSentiment\n",
    "!pip install afinn"
   ]
  },
  {
   "cell_type": "code",
   "execution_count": 2,
   "id": "better-smoke",
   "metadata": {
    "execution": {
     "iopub.execute_input": "2022-08-25T23:14:53.117513Z",
     "iopub.status.busy": "2022-08-25T23:14:53.116387Z",
     "iopub.status.idle": "2022-08-25T23:15:02.079351Z",
     "shell.execute_reply": "2022-08-25T23:15:02.078534Z",
     "shell.execute_reply.started": "2022-08-25T23:09:44.909419Z"
    },
    "papermill": {
     "duration": 9.017278,
     "end_time": "2022-08-25T23:15:02.079515",
     "exception": false,
     "start_time": "2022-08-25T23:14:53.062237",
     "status": "completed"
    },
    "tags": []
   },
   "outputs": [
    {
     "name": "stdout",
     "output_type": "stream",
     "text": [
      "Collecting twython\r\n",
      "  Downloading twython-3.9.1-py3-none-any.whl (33 kB)\r\n",
      "Requirement already satisfied: requests>=2.1.0 in /opt/conda/lib/python3.7/site-packages (from twython) (2.25.1)\r\n",
      "Requirement already satisfied: requests-oauthlib>=0.4.0 in /opt/conda/lib/python3.7/site-packages (from twython) (1.3.0)\r\n",
      "Requirement already satisfied: urllib3<1.27,>=1.21.1 in /opt/conda/lib/python3.7/site-packages (from requests>=2.1.0->twython) (1.26.4)\r\n",
      "Requirement already satisfied: idna<3,>=2.5 in /opt/conda/lib/python3.7/site-packages (from requests>=2.1.0->twython) (2.10)\r\n",
      "Requirement already satisfied: chardet<5,>=3.0.2 in /opt/conda/lib/python3.7/site-packages (from requests>=2.1.0->twython) (4.0.0)\r\n",
      "Requirement already satisfied: certifi>=2017.4.17 in /opt/conda/lib/python3.7/site-packages (from requests>=2.1.0->twython) (2020.12.5)\r\n",
      "Requirement already satisfied: oauthlib>=3.0.0 in /opt/conda/lib/python3.7/site-packages (from requests-oauthlib>=0.4.0->twython) (3.0.1)\r\n",
      "Installing collected packages: twython\r\n",
      "Successfully installed twython-3.9.1\r\n"
     ]
    }
   ],
   "source": [
    "!pip install twython"
   ]
  },
  {
   "cell_type": "markdown",
   "id": "hindu-cloud",
   "metadata": {
    "papermill": {
     "duration": 0.043631,
     "end_time": "2022-08-25T23:15:02.167082",
     "exception": false,
     "start_time": "2022-08-25T23:15:02.123451",
     "status": "completed"
    },
    "tags": []
   },
   "source": [
    "We then include the packages used for the analysis."
   ]
  },
  {
   "cell_type": "code",
   "execution_count": 3,
   "id": "everyday-police",
   "metadata": {
    "execution": {
     "iopub.execute_input": "2022-08-25T23:15:02.262210Z",
     "iopub.status.busy": "2022-08-25T23:15:02.261466Z",
     "iopub.status.idle": "2022-08-25T23:15:04.498585Z",
     "shell.execute_reply": "2022-08-25T23:15:04.499200Z",
     "shell.execute_reply.started": "2022-08-25T23:09:51.900401Z"
    },
    "papermill": {
     "duration": 2.288953,
     "end_time": "2022-08-25T23:15:04.499459",
     "exception": false,
     "start_time": "2022-08-25T23:15:02.210506",
     "status": "completed"
    },
    "tags": []
   },
   "outputs": [],
   "source": [
    "import numpy as np \n",
    "import pandas as pd\n",
    "import re\n",
    "import string\n",
    "import nltk\n",
    "from nltk.corpus import stopwords\n",
    "from string import punctuation\n",
    "from nltk.stem.porter import PorterStemmer\n",
    "from nltk.tokenize import word_tokenize\n",
    "from nltk.tokenize.treebank import TreebankWordDetokenizer\n",
    "from nltk.sentiment.vader import SentimentIntensityAnalyzer\n",
    "from textblob import TextBlob\n",
    "from afinn import Afinn\n",
    "from nltk.sentiment import SentimentAnalyzer\n",
    "from sklearn.feature_extraction.text import TfidfVectorizer\n",
    "from gensim.test.utils import common_texts\n",
    "from gensim.models.doc2vec import Doc2Vec, TaggedDocument\n",
    "import warnings\n",
    "warnings.simplefilter(\"ignore\")"
   ]
  },
  {
   "cell_type": "markdown",
   "id": "allied-complex",
   "metadata": {
    "papermill": {
     "duration": 0.04492,
     "end_time": "2022-08-25T23:15:04.588780",
     "exception": false,
     "start_time": "2022-08-25T23:15:04.543860",
     "status": "completed"
    },
    "tags": []
   },
   "source": [
    "Following, we load the data."
   ]
  },
  {
   "cell_type": "code",
   "execution_count": 4,
   "id": "handed-floating",
   "metadata": {
    "_kg_hide-input": true,
    "execution": {
     "iopub.execute_input": "2022-08-25T23:15:04.680612Z",
     "iopub.status.busy": "2022-08-25T23:15:04.679685Z",
     "iopub.status.idle": "2022-08-25T23:15:04.707373Z",
     "shell.execute_reply": "2022-08-25T23:15:04.707958Z",
     "shell.execute_reply.started": "2022-08-25T23:09:52.886997Z"
    },
    "papermill": {
     "duration": 0.074687,
     "end_time": "2022-08-25T23:15:04.708160",
     "exception": false,
     "start_time": "2022-08-25T23:15:04.633473",
     "status": "completed"
    },
    "tags": []
   },
   "outputs": [],
   "source": [
    "\n",
    "tweets_df = pd.read_csv('../input/political-news-fake-or-real-nigeria/output.csv')"
   ]
  },
  {
   "cell_type": "markdown",
   "id": "local-spokesman",
   "metadata": {
    "papermill": {
     "duration": 0.046134,
     "end_time": "2022-08-25T23:15:04.800015",
     "exception": false,
     "start_time": "2022-08-25T23:15:04.753881",
     "status": "completed"
    },
    "tags": []
   },
   "source": [
    "## <a id=\"2\">Feature engineering</a>\n",
    "\n",
    "\n",
    "### Text cleaning and preprocessing"
   ]
  },
  {
   "cell_type": "markdown",
   "id": "universal-saying",
   "metadata": {
    "papermill": {
     "duration": 0.047087,
     "end_time": "2022-08-25T23:15:04.895205",
     "exception": false,
     "start_time": "2022-08-25T23:15:04.848118",
     "status": "completed"
    },
    "tags": []
   },
   "source": [
    "Next, we introduce few useful functions for preparing the additional features, as following:\n",
    "* data cleaning; the data filtered is not presented to the sentiment analysis extraction (we need the full context, including punctuation, for the sentiment analysis tasks).\n",
    "* text preprocessing - further text transformation: tokenization, eliminate stop words and stemming (same as before, the transformed text will not be presented to the sentiment analysis task;\n",
    "* further text transformation, using TreebankWordDetokenizer."
   ]
  },
  {
   "cell_type": "code",
   "execution_count": 5,
   "id": "graduate-republican",
   "metadata": {
    "execution": {
     "iopub.execute_input": "2022-08-25T23:15:04.994576Z",
     "iopub.status.busy": "2022-08-25T23:15:04.993540Z",
     "iopub.status.idle": "2022-08-25T23:15:05.002212Z",
     "shell.execute_reply": "2022-08-25T23:15:05.003154Z",
     "shell.execute_reply.started": "2022-08-25T23:09:52.913824Z"
    },
    "papermill": {
     "duration": 0.064879,
     "end_time": "2022-08-25T23:15:05.003495",
     "exception": false,
     "start_time": "2022-08-25T23:15:04.938616",
     "status": "completed"
    },
    "tags": []
   },
   "outputs": [],
   "source": [
    "def cleaning_data(data):\n",
    "    data['modi']=data['text'].str.lower()\n",
    "    i=0\n",
    "    for x in data['modi']:\n",
    "        for y in x:\n",
    "            if y in punctuation:\n",
    "                data['modi'][i]=data['modi'][i].replace(y,'')\n",
    "        data['modi'][i]=data['modi'][i].replace('br','')\n",
    "        i+=1\n",
    "    data = pd.concat([data.drop(['modi'], axis=1), data['modi'].apply(pd.Series)], axis=1)"
   ]
  },
  {
   "cell_type": "code",
   "execution_count": 6,
   "id": "apart-screening",
   "metadata": {
    "execution": {
     "iopub.execute_input": "2022-08-25T23:15:05.116167Z",
     "iopub.status.busy": "2022-08-25T23:15:05.115147Z",
     "iopub.status.idle": "2022-08-25T23:15:05.120651Z",
     "shell.execute_reply": "2022-08-25T23:15:05.121348Z",
     "shell.execute_reply.started": "2022-08-25T23:09:52.923394Z"
    },
    "papermill": {
     "duration": 0.063225,
     "end_time": "2022-08-25T23:15:05.121564",
     "exception": false,
     "start_time": "2022-08-25T23:15:05.058339",
     "status": "completed"
    },
    "tags": []
   },
   "outputs": [],
   "source": [
    "def preprocess_text(text):\n",
    "    tokens = word_tokenize(text)\n",
    "    stop_words = set(stopwords.words('english'))\n",
    "    tokens = [w for w in tokens if not w in stop_words]\n",
    "    porter = PorterStemmer()\n",
    "    stems = []\n",
    "    for t in tokens:    \n",
    "        stems.append(porter.stem(t))\n",
    "    return stems"
   ]
  },
  {
   "cell_type": "markdown",
   "id": "dried-recommendation",
   "metadata": {
    "papermill": {
     "duration": 0.042797,
     "end_time": "2022-08-25T23:15:05.211130",
     "exception": false,
     "start_time": "2022-08-25T23:15:05.168333",
     "status": "completed"
    },
    "tags": []
   },
   "source": [
    "Apply text cleaning (filtering), text preprocessing and further text transformation."
   ]
  },
  {
   "cell_type": "code",
   "execution_count": 7,
   "id": "tested-spelling",
   "metadata": {
    "execution": {
     "iopub.execute_input": "2022-08-25T23:15:05.304133Z",
     "iopub.status.busy": "2022-08-25T23:15:05.303406Z",
     "iopub.status.idle": "2022-08-25T23:15:10.263925Z",
     "shell.execute_reply": "2022-08-25T23:15:10.263327Z",
     "shell.execute_reply.started": "2022-08-25T23:09:52.934403Z"
    },
    "papermill": {
     "duration": 5.008191,
     "end_time": "2022-08-25T23:15:10.264093",
     "exception": false,
     "start_time": "2022-08-25T23:15:05.255902",
     "status": "completed"
    },
    "tags": []
   },
   "outputs": [],
   "source": [
    "cleaning_data(tweets_df)\n",
    "tweets_df['modi']= tweets_df['modi'].apply(lambda x : preprocess_text(x))\n",
    "tweets_df['modi']=tweets_df['modi'].apply(lambda x: TreebankWordDetokenizer().detokenize(x))"
   ]
  },
  {
   "cell_type": "markdown",
   "id": "connected-malta",
   "metadata": {
    "papermill": {
     "duration": 0.046371,
     "end_time": "2022-08-25T23:15:10.355873",
     "exception": false,
     "start_time": "2022-08-25T23:15:10.309502",
     "status": "completed"
    },
    "tags": []
   },
   "source": [
    "### Sentiment analysis\n",
    "\n",
    "First, we define the functions for the sentiment analysis:\n",
    "- using TextBlob, and obtain sentiment polarity and sentiment subjectivity;\n",
    "- using vader by nltk SentimentIntensityAnalyzer;\n",
    "- using Affin.\n",
    "\n",
    "Then we calculate doc2vec transformation using gensim Doc2Vec and also calculate TF-IDF on the modified form of the text data (text that was subjcted to text cleaning and pre-processing).\n"
   ]
  },
  {
   "cell_type": "code",
   "execution_count": 8,
   "id": "furnished-mustang",
   "metadata": {
    "_kg_hide-input": true,
    "execution": {
     "iopub.execute_input": "2022-08-25T23:15:10.447940Z",
     "iopub.status.busy": "2022-08-25T23:15:10.447167Z",
     "iopub.status.idle": "2022-08-25T23:15:10.453101Z",
     "shell.execute_reply": "2022-08-25T23:15:10.453700Z",
     "shell.execute_reply.started": "2022-08-25T23:09:57.818981Z"
    },
    "papermill": {
     "duration": 0.054545,
     "end_time": "2022-08-25T23:15:10.453903",
     "exception": false,
     "start_time": "2022-08-25T23:15:10.399358",
     "status": "completed"
    },
    "tags": []
   },
   "outputs": [],
   "source": [
    "def find_sentiment_polarity_textblob(text):\n",
    "    blob = TextBlob(text)\n",
    "    polarity = 0\n",
    "    for sentence in blob.sentences:\n",
    "        polarity += sentence.sentiment.polarity\n",
    "    return polarity\n",
    "\n",
    "def find_sentiment_subjectivity_textblob(text):\n",
    "    blob = TextBlob(text)\n",
    "    subjectivity = 0\n",
    "    for sentence in blob.sentences:\n",
    "        subjectivity += sentence.sentiment.subjectivity\n",
    "    return subjectivity"
   ]
  },
  {
   "cell_type": "code",
   "execution_count": 9,
   "id": "fatal-ethnic",
   "metadata": {
    "_kg_hide-input": true,
    "execution": {
     "iopub.execute_input": "2022-08-25T23:15:10.546860Z",
     "iopub.status.busy": "2022-08-25T23:15:10.546126Z",
     "iopub.status.idle": "2022-08-25T23:15:10.555410Z",
     "shell.execute_reply": "2022-08-25T23:15:10.556071Z",
     "shell.execute_reply.started": "2022-08-25T23:09:57.827645Z"
    },
    "papermill": {
     "duration": 0.057756,
     "end_time": "2022-08-25T23:15:10.556274",
     "exception": false,
     "start_time": "2022-08-25T23:15:10.498518",
     "status": "completed"
    },
    "tags": []
   },
   "outputs": [],
   "source": [
    "def sentiment_scores(data):\n",
    "    analyser = SentimentIntensityAnalyzer()\n",
    "    afin = Afinn(emoticons=True)\n",
    "    data['vader']=data['text'].apply(lambda x : analyser.polarity_scores(x))\n",
    "    data['afinn']=data['text'].apply(lambda x : afin.score(x))\n",
    "    data = pd.concat([data.drop(['vader'], axis=1), data['vader'].apply(pd.Series)], axis=1)\n",
    "    data[\"tb_pol\"] = data[\"text\"].apply(lambda x: find_sentiment_polarity_textblob(x))\n",
    "    data[\"tb_sub\"] = data[\"text\"].apply(lambda x: find_sentiment_subjectivity_textblob(x))\n",
    "    data['blob']=data['text'].apply(lambda x : TextBlob(x).sentiment)\n",
    "    data = pd.concat([data.drop(['blob'], axis=1), data['blob'].apply(pd.Series)], axis=1)\n",
    "    data['lenght'] = data['text'].apply(lambda x : len(x))\n",
    "    data['words'] = data['text'].apply(lambda x :len(x.split(\" \")))\n",
    "    return data"
   ]
  },
  {
   "cell_type": "code",
   "execution_count": 10,
   "id": "offensive-maple",
   "metadata": {
    "_kg_hide-input": true,
    "execution": {
     "iopub.execute_input": "2022-08-25T23:15:10.651592Z",
     "iopub.status.busy": "2022-08-25T23:15:10.650807Z",
     "iopub.status.idle": "2022-08-25T23:15:10.658843Z",
     "shell.execute_reply": "2022-08-25T23:15:10.659465Z",
     "shell.execute_reply.started": "2022-08-25T23:09:57.840489Z"
    },
    "papermill": {
     "duration": 0.056578,
     "end_time": "2022-08-25T23:15:10.659667",
     "exception": false,
     "start_time": "2022-08-25T23:15:10.603089",
     "status": "completed"
    },
    "tags": []
   },
   "outputs": [],
   "source": [
    "def doc2vec(data):\n",
    "    documents = [TaggedDocument(doc, [i]) for i, doc in enumerate(data[\"modi\"].apply(lambda x: x.split(\" \")))]\n",
    "    # train a Doc2Vec model with our text data\n",
    "    model = Doc2Vec(documents, workers=4,vector_size=50,dm=0,min_count = 1)\n",
    "\n",
    "    # transform each document into a vector data\n",
    "    doc2vec_df = data[\"modi\"].apply(lambda x: model.infer_vector(x.split(\" \"))).apply(pd.Series)\n",
    "    doc2vec_df.columns = [\"d2v_\" + str(x) for x in doc2vec_df.columns]\n",
    "    data = pd.concat([data, doc2vec_df], axis=1)\n",
    "     \n",
    "    return data"
   ]
  },
  {
   "cell_type": "markdown",
   "id": "rubber-stuart",
   "metadata": {
    "papermill": {
     "duration": 0.043207,
     "end_time": "2022-08-25T23:15:10.746185",
     "exception": false,
     "start_time": "2022-08-25T23:15:10.702978",
     "status": "completed"
    },
    "tags": []
   },
   "source": [
    "### End to end feature engineering\n",
    "\n",
    "We apply in the make_features function (see below) the transformations (to calculate sentiment scores and to form the vectorized features from modified text data)."
   ]
  },
  {
   "cell_type": "code",
   "execution_count": 11,
   "id": "external-lighting",
   "metadata": {
    "_kg_hide-input": true,
    "execution": {
     "iopub.execute_input": "2022-08-25T23:15:10.840083Z",
     "iopub.status.busy": "2022-08-25T23:15:10.839351Z",
     "iopub.status.idle": "2022-08-25T23:15:10.846337Z",
     "shell.execute_reply": "2022-08-25T23:15:10.846886Z",
     "shell.execute_reply.started": "2022-08-25T23:09:57.856558Z"
    },
    "papermill": {
     "duration": 0.053992,
     "end_time": "2022-08-25T23:15:10.847092",
     "exception": false,
     "start_time": "2022-08-25T23:15:10.793100",
     "status": "completed"
    },
    "tags": []
   },
   "outputs": [],
   "source": [
    "def make_features(data):\n",
    "    data = sentiment_scores(data)\n",
    "    data = doc2vec(data)\n",
    "    \n",
    "    tfidf = TfidfVectorizer(min_df=10,max_df=0.6,ngram_range=(1,3))\n",
    "    tfidf.fit(data[\"modi\"])\n",
    "    tfidf_result = tfidf.transform(data[\"modi\"]).toarray()\n",
    "    tfidf_df = pd.DataFrame(tfidf_result, columns = tfidf.get_feature_names())\n",
    "    tfidf_df.columns = [\"word_\" + str(x) for x in tfidf_df.columns]\n",
    "    tfidf_df.index = data.index\n",
    "    data = pd.concat([data, tfidf_df], axis=1)\n",
    "\n",
    "    data.fillna(0,inplace=True)\n",
    "    return data"
   ]
  },
  {
   "cell_type": "code",
   "execution_count": 12,
   "id": "toxic-transformation",
   "metadata": {
    "_kg_hide-input": true,
    "execution": {
     "iopub.execute_input": "2022-08-25T23:15:10.943800Z",
     "iopub.status.busy": "2022-08-25T23:15:10.942666Z",
     "iopub.status.idle": "2022-08-25T23:15:16.119706Z",
     "shell.execute_reply": "2022-08-25T23:15:16.118421Z",
     "shell.execute_reply.started": "2022-08-25T23:09:57.868052Z"
    },
    "papermill": {
     "duration": 5.225272,
     "end_time": "2022-08-25T23:15:16.119884",
     "exception": false,
     "start_time": "2022-08-25T23:15:10.894612",
     "status": "completed"
    },
    "tags": []
   },
   "outputs": [],
   "source": [
    "x = make_features(tweets_df)"
   ]
  },
  {
   "cell_type": "markdown",
   "id": "religious-handbook",
   "metadata": {
    "papermill": {
     "duration": 0.043318,
     "end_time": "2022-08-25T23:15:16.207135",
     "exception": false,
     "start_time": "2022-08-25T23:15:16.163817",
     "status": "completed"
    },
    "tags": []
   },
   "source": [
    "Let's look to the original text, the pre-processed text (`modi`),  extracted sentiment analysis features and few more features extracted (length of initial text, number of words)."
   ]
  },
  {
   "cell_type": "code",
   "execution_count": 13,
   "id": "improved-services",
   "metadata": {
    "_kg_hide-input": true,
    "execution": {
     "iopub.execute_input": "2022-08-25T23:15:16.302213Z",
     "iopub.status.busy": "2022-08-25T23:15:16.301120Z",
     "iopub.status.idle": "2022-08-25T23:15:16.327559Z",
     "shell.execute_reply": "2022-08-25T23:15:16.328239Z",
     "shell.execute_reply.started": "2022-08-25T23:10:02.961779Z"
    },
    "papermill": {
     "duration": 0.078266,
     "end_time": "2022-08-25T23:15:16.328484",
     "exception": false,
     "start_time": "2022-08-25T23:15:16.250218",
     "status": "completed"
    },
    "tags": []
   },
   "outputs": [
    {
     "data": {
      "text/html": [
       "<div>\n",
       "<style scoped>\n",
       "    .dataframe tbody tr th:only-of-type {\n",
       "        vertical-align: middle;\n",
       "    }\n",
       "\n",
       "    .dataframe tbody tr th {\n",
       "        vertical-align: top;\n",
       "    }\n",
       "\n",
       "    .dataframe thead th {\n",
       "        text-align: right;\n",
       "    }\n",
       "</style>\n",
       "<table border=\"1\" class=\"dataframe\">\n",
       "  <thead>\n",
       "    <tr style=\"text-align: right;\">\n",
       "      <th></th>\n",
       "      <th>text</th>\n",
       "      <th>modi</th>\n",
       "      <th>afinn</th>\n",
       "      <th>neg</th>\n",
       "      <th>neu</th>\n",
       "      <th>pos</th>\n",
       "      <th>compound</th>\n",
       "      <th>tb_pol</th>\n",
       "      <th>tb_sub</th>\n",
       "      <th>lenght</th>\n",
       "      <th>words</th>\n",
       "    </tr>\n",
       "  </thead>\n",
       "  <tbody>\n",
       "    <tr>\n",
       "      <th>0</th>\n",
       "      <td>RT @StFreakingKezy: If you to confirm the auth...</td>\n",
       "      <td>rt stfreakingkezi confirm authent inform niger...</td>\n",
       "      <td>0.0</td>\n",
       "      <td>0.0</td>\n",
       "      <td>1.000</td>\n",
       "      <td>0.000</td>\n",
       "      <td>0.0000</td>\n",
       "      <td>0.0</td>\n",
       "      <td>0.00</td>\n",
       "      <td>144</td>\n",
       "      <td>23</td>\n",
       "    </tr>\n",
       "    <tr>\n",
       "      <th>1</th>\n",
       "      <td>RT @NigeriaNewsdesk: APC: North Central geo po...</td>\n",
       "      <td>rt nigerianewsdesk apc north central geo polit...</td>\n",
       "      <td>0.0</td>\n",
       "      <td>0.0</td>\n",
       "      <td>0.847</td>\n",
       "      <td>0.153</td>\n",
       "      <td>0.4019</td>\n",
       "      <td>0.0</td>\n",
       "      <td>0.15</td>\n",
       "      <td>130</td>\n",
       "      <td>16</td>\n",
       "    </tr>\n",
       "    <tr>\n",
       "      <th>2</th>\n",
       "      <td>RT @NigeriaNewsdesk: APC: North Central geo po...</td>\n",
       "      <td>rt nigerianewsdesk apc north central geo polit...</td>\n",
       "      <td>0.0</td>\n",
       "      <td>0.0</td>\n",
       "      <td>0.847</td>\n",
       "      <td>0.153</td>\n",
       "      <td>0.4019</td>\n",
       "      <td>0.0</td>\n",
       "      <td>0.15</td>\n",
       "      <td>130</td>\n",
       "      <td>16</td>\n",
       "    </tr>\n",
       "    <tr>\n",
       "      <th>3</th>\n",
       "      <td>RT @NigeriaNewsdesk: APC: North Central geo po...</td>\n",
       "      <td>rt nigerianewsdesk apc north central geo polit...</td>\n",
       "      <td>0.0</td>\n",
       "      <td>0.0</td>\n",
       "      <td>0.847</td>\n",
       "      <td>0.153</td>\n",
       "      <td>0.4019</td>\n",
       "      <td>0.0</td>\n",
       "      <td>0.15</td>\n",
       "      <td>130</td>\n",
       "      <td>16</td>\n",
       "    </tr>\n",
       "    <tr>\n",
       "      <th>4</th>\n",
       "      <td>RT @StFreakingKezy: If you to confirm the auth...</td>\n",
       "      <td>rt stfreakingkezi confirm authent inform niger...</td>\n",
       "      <td>0.0</td>\n",
       "      <td>0.0</td>\n",
       "      <td>1.000</td>\n",
       "      <td>0.000</td>\n",
       "      <td>0.0000</td>\n",
       "      <td>0.0</td>\n",
       "      <td>0.00</td>\n",
       "      <td>144</td>\n",
       "      <td>23</td>\n",
       "    </tr>\n",
       "  </tbody>\n",
       "</table>\n",
       "</div>"
      ],
      "text/plain": [
       "                                                text  \\\n",
       "0  RT @StFreakingKezy: If you to confirm the auth...   \n",
       "1  RT @NigeriaNewsdesk: APC: North Central geo po...   \n",
       "2  RT @NigeriaNewsdesk: APC: North Central geo po...   \n",
       "3  RT @NigeriaNewsdesk: APC: North Central geo po...   \n",
       "4  RT @StFreakingKezy: If you to confirm the auth...   \n",
       "\n",
       "                                                modi  afinn  neg    neu  \\\n",
       "0  rt stfreakingkezi confirm authent inform niger...    0.0  0.0  1.000   \n",
       "1  rt nigerianewsdesk apc north central geo polit...    0.0  0.0  0.847   \n",
       "2  rt nigerianewsdesk apc north central geo polit...    0.0  0.0  0.847   \n",
       "3  rt nigerianewsdesk apc north central geo polit...    0.0  0.0  0.847   \n",
       "4  rt stfreakingkezi confirm authent inform niger...    0.0  0.0  1.000   \n",
       "\n",
       "     pos  compound  tb_pol  tb_sub  lenght  words  \n",
       "0  0.000    0.0000     0.0    0.00     144     23  \n",
       "1  0.153    0.4019     0.0    0.15     130     16  \n",
       "2  0.153    0.4019     0.0    0.15     130     16  \n",
       "3  0.153    0.4019     0.0    0.15     130     16  \n",
       "4  0.000    0.0000     0.0    0.00     144     23  "
      ]
     },
     "execution_count": 13,
     "metadata": {},
     "output_type": "execute_result"
    }
   ],
   "source": [
    "selected_columns = ['text', 'modi', 'afinn', 'neg', 'neu', 'pos', 'compound', 'tb_pol', 'tb_sub', 'lenght', 'words']\n",
    "x[selected_columns].head()"
   ]
  },
  {
   "cell_type": "markdown",
   "id": "renewable-nomination",
   "metadata": {
    "papermill": {
     "duration": 0.045159,
     "end_time": "2022-08-25T23:15:16.417187",
     "exception": false,
     "start_time": "2022-08-25T23:15:16.372028",
     "status": "completed"
    },
    "tags": []
   },
   "source": [
    "## <a id=\"3\">Sentiment analysis - a data exploration</a>"
   ]
  },
  {
   "cell_type": "code",
   "execution_count": 14,
   "id": "overhead-joyce",
   "metadata": {
    "_kg_hide-input": true,
    "execution": {
     "iopub.execute_input": "2022-08-25T23:15:16.509641Z",
     "iopub.status.busy": "2022-08-25T23:15:16.508891Z",
     "iopub.status.idle": "2022-08-25T23:15:16.590681Z",
     "shell.execute_reply": "2022-08-25T23:15:16.589876Z",
     "shell.execute_reply.started": "2022-08-25T23:10:02.996033Z"
    },
    "papermill": {
     "duration": 0.128545,
     "end_time": "2022-08-25T23:15:16.590869",
     "exception": false,
     "start_time": "2022-08-25T23:15:16.462324",
     "status": "completed"
    },
    "tags": []
   },
   "outputs": [],
   "source": [
    "import numpy as np\n",
    "import pandas as pd \n",
    "import matplotlib.pyplot as plt\n",
    "import seaborn as sns "
   ]
  },
  {
   "cell_type": "code",
   "execution_count": 15,
   "id": "undefined-vertex",
   "metadata": {
    "_kg_hide-input": true,
    "execution": {
     "iopub.execute_input": "2022-08-25T23:15:16.710466Z",
     "iopub.status.busy": "2022-08-25T23:15:16.709690Z",
     "iopub.status.idle": "2022-08-25T23:15:22.734529Z",
     "shell.execute_reply": "2022-08-25T23:15:22.735054Z",
     "shell.execute_reply.started": "2022-08-25T23:10:03.032166Z"
    },
    "papermill": {
     "duration": 6.100368,
     "end_time": "2022-08-25T23:15:22.735238",
     "exception": false,
     "start_time": "2022-08-25T23:15:16.634870",
     "status": "completed"
    },
    "tags": []
   },
   "outputs": [
    {
     "data": {
      "text/plain": [
       "<seaborn.axisgrid.PairGrid at 0x7fa8de11a4d0>"
      ]
     },
     "execution_count": 15,
     "metadata": {},
     "output_type": "execute_result"
    },
    {
     "data": {
      "image/png": "[encoded data removed]",
      "text/plain": [
       "<Figure size 1260x1260 with 35 Axes>"
      ]
     },
     "metadata": {
      "needs_background": "light"
     },
     "output_type": "display_data"
    }
   ],
   "source": [
    "selected = [\"afinn\", \"compound\",\"neg\", \"neu\", \"pos\",\"tb_pol\", \"tb_sub\"]\n",
    "sns.pairplot(x[selected].sample(500), diag_kind=\"kde\", corner=True)"
   ]
  },
  {
   "cell_type": "markdown",
   "id": "composite-slovak",
   "metadata": {
    "papermill": {
     "duration": 0.052602,
     "end_time": "2022-08-25T23:15:22.840311",
     "exception": false,
     "start_time": "2022-08-25T23:15:22.787709",
     "status": "completed"
    },
    "tags": []
   },
   "source": [
    "## <a id=\"4\">Use sentiment polarity features for labeling</a>\n",
    "\n",
    "\n",
    "We will use `compound` feature for labeling, as following:\n",
    "* if the feature is smaller than 0, we label as `negative` (0) the tweet;\n",
    "* if the feature is larger than 0, we label as `positive` (1) the tweet."
   ]
  },
  {
   "cell_type": "code",
   "execution_count": 16,
   "id": "disturbed-creation",
   "metadata": {
    "_kg_hide-input": true,
    "execution": {
     "iopub.execute_input": "2022-08-25T23:15:22.952703Z",
     "iopub.status.busy": "2022-08-25T23:15:22.951981Z",
     "iopub.status.idle": "2022-08-25T23:15:22.954861Z",
     "shell.execute_reply": "2022-08-25T23:15:22.954180Z",
     "shell.execute_reply.started": "2022-08-25T23:10:08.839381Z"
    },
    "papermill": {
     "duration": 0.05945,
     "end_time": "2022-08-25T23:15:22.955028",
     "exception": false,
     "start_time": "2022-08-25T23:15:22.895578",
     "status": "completed"
    },
    "tags": []
   },
   "outputs": [],
   "source": [
    "def label_based_on_compound_value(compound):\n",
    "    if compound > 0:\n",
    "        return 1 # positive\n",
    "    else:\n",
    "        return 0 # negative"
   ]
  },
  {
   "cell_type": "code",
   "execution_count": 17,
   "id": "integrated-harvest",
   "metadata": {
    "execution": {
     "iopub.execute_input": "2022-08-25T23:15:23.066369Z",
     "iopub.status.busy": "2022-08-25T23:15:23.065650Z",
     "iopub.status.idle": "2022-08-25T23:15:23.069111Z",
     "shell.execute_reply": "2022-08-25T23:15:23.068479Z",
     "shell.execute_reply.started": "2022-08-25T23:10:08.845893Z"
    },
    "papermill": {
     "duration": 0.060836,
     "end_time": "2022-08-25T23:15:23.069264",
     "exception": false,
     "start_time": "2022-08-25T23:15:23.008428",
     "status": "completed"
    },
    "tags": []
   },
   "outputs": [],
   "source": [
    "x['label'] = x['compound'].apply(lambda x: label_based_on_compound_value(x))"
   ]
  },
  {
   "cell_type": "markdown",
   "id": "greater-reason",
   "metadata": {
    "papermill": {
     "duration": 0.051028,
     "end_time": "2022-08-25T23:15:23.172704",
     "exception": false,
     "start_time": "2022-08-25T23:15:23.121676",
     "status": "completed"
    },
    "tags": []
   },
   "source": [
    "## <a id=\"5\">Train a supervised model and validate it</a>\n",
    "\n",
    "We select the columns to include into the model."
   ]
  },
  {
   "cell_type": "code",
   "execution_count": 18,
   "id": "documentary-speech",
   "metadata": {
    "execution": {
     "iopub.execute_input": "2022-08-25T23:15:23.278587Z",
     "iopub.status.busy": "2022-08-25T23:15:23.277842Z",
     "iopub.status.idle": "2022-08-25T23:15:23.282172Z",
     "shell.execute_reply": "2022-08-25T23:15:23.282839Z",
     "shell.execute_reply.started": "2022-08-25T23:10:08.860232Z"
    },
    "papermill": {
     "duration": 0.058607,
     "end_time": "2022-08-25T23:15:23.283035",
     "exception": false,
     "start_time": "2022-08-25T23:15:23.224428",
     "status": "completed"
    },
    "tags": []
   },
   "outputs": [],
   "source": [
    "ignore_columns = ['id', 'date_created']"
   ]
  },
  {
   "cell_type": "markdown",
   "id": "pretty-prophet",
   "metadata": {
    "papermill": {
     "duration": 0.050547,
     "end_time": "2022-08-25T23:15:23.386306",
     "exception": false,
     "start_time": "2022-08-25T23:15:23.335759",
     "status": "completed"
    },
    "tags": []
   },
   "source": [
    "We create a train, validation and test set. We select 10% of the data for test set. From the remaining 90%, 90% (or 81% from initial dataset) we use as train and the rest of 10% as validation data."
   ]
  },
  {
   "cell_type": "code",
   "execution_count": 19,
   "id": "preliminary-blackjack",
   "metadata": {
    "_kg_hide-input": true,
    "execution": {
     "iopub.execute_input": "2022-08-25T23:15:23.491228Z",
     "iopub.status.busy": "2022-08-25T23:15:23.490464Z",
     "iopub.status.idle": "2022-08-25T23:15:23.515198Z",
     "shell.execute_reply": "2022-08-25T23:15:23.515773Z",
     "shell.execute_reply.started": "2022-08-25T23:10:08.869529Z"
    },
    "papermill": {
     "duration": 0.078945,
     "end_time": "2022-08-25T23:15:23.515980",
     "exception": false,
     "start_time": "2022-08-25T23:15:23.437035",
     "status": "completed"
    },
    "tags": []
   },
   "outputs": [],
   "source": [
    "from sklearn.model_selection import train_test_split\n",
    "features = [c for c in list(x.columns) if c not in ignore_columns]\n",
    "train_labels = x['label']\n",
    "X_train, X_test, y_train, y_test = train_test_split(x[features], train_labels, test_size=0.1, random_state=42)\n",
    "X_train, X_val, y_train, y_val = train_test_split(X_train, y_train, test_size=0.1, random_state=42)"
   ]
  },
  {
   "cell_type": "code",
   "execution_count": 20,
   "id": "digital-furniture",
   "metadata": {
    "execution": {
     "iopub.execute_input": "2022-08-25T23:15:23.638279Z",
     "iopub.status.busy": "2022-08-25T23:15:23.625238Z",
     "iopub.status.idle": "2022-08-25T23:15:23.673023Z",
     "shell.execute_reply": "2022-08-25T23:15:23.673601Z",
     "shell.execute_reply.started": "2022-08-25T23:10:08.901451Z"
    },
    "papermill": {
     "duration": 0.103618,
     "end_time": "2022-08-25T23:15:23.673798",
     "exception": false,
     "start_time": "2022-08-25T23:15:23.570180",
     "status": "completed"
    },
    "tags": []
   },
   "outputs": [
    {
     "name": "stdout",
     "output_type": "stream",
     "text": [
      "<class 'pandas.core.frame.DataFrame'>\n",
      "Int64Index: 810 entries, 633 to 695\n",
      "Columns: 702 entries, Unnamed: 0 to label\n",
      "dtypes: float32(50), float64(646), int64(4), object(2)\n",
      "memory usage: 4.2+ MB\n"
     ]
    }
   ],
   "source": [
    "X_train.info()"
   ]
  },
  {
   "cell_type": "code",
   "execution_count": 21,
   "id": "pursuant-vietnam",
   "metadata": {
    "execution": {
     "iopub.execute_input": "2022-08-25T23:15:23.780342Z",
     "iopub.status.busy": "2022-08-25T23:15:23.779645Z",
     "iopub.status.idle": "2022-08-25T23:15:23.786664Z",
     "shell.execute_reply": "2022-08-25T23:15:23.787267Z",
     "shell.execute_reply.started": "2022-08-25T23:10:08.947886Z"
    },
    "papermill": {
     "duration": 0.061954,
     "end_time": "2022-08-25T23:15:23.787481",
     "exception": false,
     "start_time": "2022-08-25T23:15:23.725527",
     "status": "completed"
    },
    "tags": []
   },
   "outputs": [],
   "source": [
    "from sklearn.preprocessing import LabelEncoder, OrdinalEncoder\n",
    "# prepare input data\n",
    "def prepare_inputs(X_train, X_test, X_val):\n",
    "    oe = OrdinalEncoder(handle_unknown='use_encoded_value', unknown_value = np.nan)\n",
    "    oe.fit(X_train)\n",
    "    X_train_enc = oe.transform(X_train)\n",
    "    X_test_enc = oe.transform(X_test)\n",
    "    X_val_enc = oe.transform(X_val)\n",
    "    return X_train_enc, X_test_enc, X_val_enc\n",
    " \n",
    "# prepare target\n",
    "def prepare_targets(y_train, y_test, y_val):\n",
    "    le = LabelEncoder()\n",
    "    le.fit(y_train)\n",
    "    y_train_enc = le.transform(y_train)\n",
    "    y_test_enc = le.transform(y_test)\n",
    "    y_val_enc = le.transform(y_val)\n",
    "    return y_train_enc, y_test_enc, y_val_enc"
   ]
  },
  {
   "cell_type": "code",
   "execution_count": 22,
   "id": "southeast-hospital",
   "metadata": {
    "execution": {
     "iopub.execute_input": "2022-08-25T23:15:23.896643Z",
     "iopub.status.busy": "2022-08-25T23:15:23.895882Z",
     "iopub.status.idle": "2022-08-25T23:15:24.529668Z",
     "shell.execute_reply": "2022-08-25T23:15:24.528858Z",
     "shell.execute_reply.started": "2022-08-25T23:10:08.956080Z"
    },
    "papermill": {
     "duration": 0.689603,
     "end_time": "2022-08-25T23:15:24.529839",
     "exception": false,
     "start_time": "2022-08-25T23:15:23.840236",
     "status": "completed"
    },
    "tags": []
   },
   "outputs": [],
   "source": [
    "# prepare input data\n",
    "X_train_enc, X_test_enc, X_val_enc = prepare_inputs(X_train, X_test, X_val)\n",
    "# prepare output data\n",
    "y_train_enc, y_test_enc, y_val_enc = prepare_targets(y_train, y_test, y_val)"
   ]
  },
  {
   "cell_type": "code",
   "execution_count": 23,
   "id": "usual-appendix",
   "metadata": {
    "_kg_hide-input": true,
    "execution": {
     "iopub.execute_input": "2022-08-25T23:15:24.641639Z",
     "iopub.status.busy": "2022-08-25T23:15:24.640851Z",
     "iopub.status.idle": "2022-08-25T23:15:24.643699Z",
     "shell.execute_reply": "2022-08-25T23:15:24.644220Z",
     "shell.execute_reply.started": "2022-08-25T23:10:09.588069Z"
    },
    "papermill": {
     "duration": 0.061998,
     "end_time": "2022-08-25T23:15:24.644440",
     "exception": false,
     "start_time": "2022-08-25T23:15:24.582442",
     "status": "completed"
    },
    "tags": []
   },
   "outputs": [
    {
     "name": "stdout",
     "output_type": "stream",
     "text": [
      "train: (810, 702), test: (100, 702), valid: (90, 702)\n"
     ]
    }
   ],
   "source": [
    "print(f\"train: {X_train_enc.shape}, test: {X_test_enc.shape}, valid: {X_val_enc.shape}\")"
   ]
  },
  {
   "cell_type": "markdown",
   "id": "necessary-anime",
   "metadata": {
    "papermill": {
     "duration": 0.05346,
     "end_time": "2022-08-25T23:15:24.749386",
     "exception": false,
     "start_time": "2022-08-25T23:15:24.695926",
     "status": "completed"
    },
    "tags": []
   },
   "source": [
    "We import the libraries for the model."
   ]
  },
  {
   "cell_type": "code",
   "execution_count": 24,
   "id": "genuine-database",
   "metadata": {
    "_kg_hide-input": true,
    "execution": {
     "iopub.execute_input": "2022-08-25T23:15:24.859930Z",
     "iopub.status.busy": "2022-08-25T23:15:24.859193Z",
     "iopub.status.idle": "2022-08-25T23:15:31.475991Z",
     "shell.execute_reply": "2022-08-25T23:15:31.475241Z",
     "shell.execute_reply.started": "2022-08-25T23:10:09.596899Z"
    },
    "papermill": {
     "duration": 6.6755,
     "end_time": "2022-08-25T23:15:31.476145",
     "exception": false,
     "start_time": "2022-08-25T23:15:24.800645",
     "status": "completed"
    },
    "tags": []
   },
   "outputs": [],
   "source": [
    "from keras.layers import Dense\n",
    "from keras.models import Model\n",
    "from keras.layers import Input, Dense, Activation\n",
    "from keras.models import Sequential\n",
    "from keras.layers import Dropout\n",
    "from keras.layers import Bidirectional\n",
    "from keras.callbacks import ModelCheckpoint, Callback, EarlyStopping, ReduceLROnPlateau, LearningRateScheduler\n",
    "from keras import optimizers\n",
    "import keras\n",
    "from sklearn import metrics"
   ]
  },
  {
   "cell_type": "markdown",
   "id": "extended-vampire",
   "metadata": {
    "papermill": {
     "duration": 0.05251,
     "end_time": "2022-08-25T23:15:31.582624",
     "exception": false,
     "start_time": "2022-08-25T23:15:31.530114",
     "status": "completed"
    },
    "tags": []
   },
   "source": [
    "We define the model. Will use (for this baseline) few Dense layers and few Dropouts  layers (to reduce overfitting)."
   ]
  },
  {
   "cell_type": "code",
   "execution_count": 25,
   "id": "exceptional-detail",
   "metadata": {
    "_kg_hide-input": true,
    "execution": {
     "iopub.execute_input": "2022-08-25T23:15:31.693301Z",
     "iopub.status.busy": "2022-08-25T23:15:31.692540Z",
     "iopub.status.idle": "2022-08-25T23:15:31.817418Z",
     "shell.execute_reply": "2022-08-25T23:15:31.817983Z",
     "shell.execute_reply.started": "2022-08-25T23:10:11.618159Z"
    },
    "papermill": {
     "duration": 0.182553,
     "end_time": "2022-08-25T23:15:31.818176",
     "exception": false,
     "start_time": "2022-08-25T23:15:31.635623",
     "status": "completed"
    },
    "tags": []
   },
   "outputs": [],
   "source": [
    "model = Sequential([\n",
    "    Dense(32, input_shape=(x[features].shape[1],)),\n",
    "    Activation('relu'),\n",
    "    Dropout(0.85),\n",
    "    Dense(16),\n",
    "    Activation('relu'),\n",
    "    Dropout(0.55),\n",
    "    Dense(1),\n",
    "    Activation('sigmoid'),\n",
    "])"
   ]
  },
  {
   "cell_type": "markdown",
   "id": "certain-vitamin",
   "metadata": {
    "papermill": {
     "duration": 0.052218,
     "end_time": "2022-08-25T23:15:31.925449",
     "exception": false,
     "start_time": "2022-08-25T23:15:31.873231",
     "status": "completed"
    },
    "tags": []
   },
   "source": [
    "Let's glimpse the model structure."
   ]
  },
  {
   "cell_type": "code",
   "execution_count": 26,
   "id": "answering-idaho",
   "metadata": {
    "_kg_hide-input": true,
    "execution": {
     "iopub.execute_input": "2022-08-25T23:15:32.038341Z",
     "iopub.status.busy": "2022-08-25T23:15:32.037633Z",
     "iopub.status.idle": "2022-08-25T23:15:32.048209Z",
     "shell.execute_reply": "2022-08-25T23:15:32.048899Z",
     "shell.execute_reply.started": "2022-08-25T23:10:11.689082Z"
    },
    "papermill": {
     "duration": 0.067092,
     "end_time": "2022-08-25T23:15:32.049091",
     "exception": false,
     "start_time": "2022-08-25T23:15:31.981999",
     "status": "completed"
    },
    "tags": []
   },
   "outputs": [
    {
     "name": "stdout",
     "output_type": "stream",
     "text": [
      "Model: \"sequential\"\n",
      "_________________________________________________________________\n",
      "Layer (type)                 Output Shape              Param #   \n",
      "=================================================================\n",
      "dense (Dense)                (None, 32)                22496     \n",
      "_________________________________________________________________\n",
      "activation (Activation)      (None, 32)                0         \n",
      "_________________________________________________________________\n",
      "dropout (Dropout)            (None, 32)                0         \n",
      "_________________________________________________________________\n",
      "dense_1 (Dense)              (None, 16)                528       \n",
      "_________________________________________________________________\n",
      "activation_1 (Activation)    (None, 16)                0         \n",
      "_________________________________________________________________\n",
      "dropout_1 (Dropout)          (None, 16)                0         \n",
      "_________________________________________________________________\n",
      "dense_2 (Dense)              (None, 1)                 17        \n",
      "_________________________________________________________________\n",
      "activation_2 (Activation)    (None, 1)                 0         \n",
      "=================================================================\n",
      "Total params: 23,041\n",
      "Trainable params: 23,041\n",
      "Non-trainable params: 0\n",
      "_________________________________________________________________\n"
     ]
    }
   ],
   "source": [
    "model.summary()"
   ]
  },
  {
   "cell_type": "markdown",
   "id": "arctic-inclusion",
   "metadata": {
    "papermill": {
     "duration": 0.051745,
     "end_time": "2022-08-25T23:15:32.154210",
     "exception": false,
     "start_time": "2022-08-25T23:15:32.102465",
     "status": "completed"
    },
    "tags": []
   },
   "source": [
    "We prepare now to fit the model. We will use as well validation data during model training. We train for 100 epochs."
   ]
  },
  {
   "cell_type": "code",
   "execution_count": 27,
   "id": "lightweight-neighbor",
   "metadata": {
    "_kg_hide-input": true,
    "execution": {
     "iopub.execute_input": "2022-08-25T23:15:32.267541Z",
     "iopub.status.busy": "2022-08-25T23:15:32.266777Z",
     "iopub.status.idle": "2022-08-25T23:15:32.283041Z",
     "shell.execute_reply": "2022-08-25T23:15:32.283848Z",
     "shell.execute_reply.started": "2022-08-25T23:10:11.703627Z"
    },
    "papermill": {
     "duration": 0.075823,
     "end_time": "2022-08-25T23:15:32.284061",
     "exception": false,
     "start_time": "2022-08-25T23:15:32.208238",
     "status": "completed"
    },
    "tags": []
   },
   "outputs": [],
   "source": [
    "model.compile(optimizer=keras.optimizers.Adam(), loss='binary_crossentropy', metrics=['accuracy'])"
   ]
  },
  {
   "cell_type": "code",
   "execution_count": 28,
   "id": "typical-annual",
   "metadata": {
    "execution": {
     "iopub.execute_input": "2022-08-25T23:15:32.395191Z",
     "iopub.status.busy": "2022-08-25T23:15:32.394203Z",
     "iopub.status.idle": "2022-08-25T23:15:32.400045Z",
     "shell.execute_reply": "2022-08-25T23:15:32.400611Z",
     "shell.execute_reply.started": "2022-08-25T23:10:11.722724Z"
    },
    "papermill": {
     "duration": 0.061783,
     "end_time": "2022-08-25T23:15:32.400904",
     "exception": false,
     "start_time": "2022-08-25T23:15:32.339121",
     "status": "completed"
    },
    "tags": []
   },
   "outputs": [],
   "source": [
    "no_epoch = 50\n",
    "es = EarlyStopping(monitor='val_loss', mode='min', verbose=1, patience=5)\n",
    "an = LearningRateScheduler(lambda x: 1e-3 * 0.991 ** (x+no_epoch))\n",
    "ck = ModelCheckpoint('best_model.h5',\n",
    "                                monitor='val_loss',\n",
    "                                verbose=0,\n",
    "                                save_best_only=True,\n",
    "                                save_weights_only=True)\n"
   ]
  },
  {
   "cell_type": "code",
   "execution_count": 29,
   "id": "severe-range",
   "metadata": {
    "_kg_hide-input": true,
    "execution": {
     "iopub.execute_input": "2022-08-25T23:15:32.513757Z",
     "iopub.status.busy": "2022-08-25T23:15:32.513031Z",
     "iopub.status.idle": "2022-08-25T23:15:34.433262Z",
     "shell.execute_reply": "2022-08-25T23:15:34.434019Z",
     "shell.execute_reply.started": "2022-08-25T23:10:11.734719Z"
    },
    "papermill": {
     "duration": 1.979057,
     "end_time": "2022-08-25T23:15:34.434321",
     "exception": false,
     "start_time": "2022-08-25T23:15:32.455264",
     "status": "completed"
    },
    "tags": []
   },
   "outputs": [
    {
     "name": "stdout",
     "output_type": "stream",
     "text": [
      "Epoch 1/50\n",
      "13/13 [==============================] - 1s 58ms/step - loss: 66.9403 - accuracy: 0.7410 - val_loss: nan - val_accuracy: 0.8778\n",
      "Epoch 2/50\n",
      "13/13 [==============================] - 0s 7ms/step - loss: 32.6397 - accuracy: 0.7633 - val_loss: nan - val_accuracy: 0.8778\n",
      "Epoch 3/50\n",
      "13/13 [==============================] - 0s 7ms/step - loss: 12.2268 - accuracy: 0.8407 - val_loss: nan - val_accuracy: 0.8778\n",
      "Epoch 4/50\n",
      "13/13 [==============================] - 0s 7ms/step - loss: 7.2315 - accuracy: 0.8347 - val_loss: nan - val_accuracy: 0.8778\n",
      "Epoch 5/50\n",
      "13/13 [==============================] - 0s 7ms/step - loss: 2.0649 - accuracy: 0.8538 - val_loss: nan - val_accuracy: 0.8778\n",
      "Epoch 00005: early stopping\n"
     ]
    }
   ],
   "source": [
    "model_history = model.fit(X_train_enc,y_train_enc,validation_data=(X_val_enc, y_val_enc), epochs=no_epoch, batch_size=64,verbose = 1, callbacks = [es, an, ck])"
   ]
  },
  {
   "cell_type": "markdown",
   "id": "expensive-moderator",
   "metadata": {
    "papermill": {
     "duration": 0.059041,
     "end_time": "2022-08-25T23:15:34.551799",
     "exception": false,
     "start_time": "2022-08-25T23:15:34.492758",
     "status": "completed"
    },
    "tags": []
   },
   "source": [
    "Let's verify accuracy of inference using the trained model for: train, validation and test data."
   ]
  },
  {
   "cell_type": "code",
   "execution_count": 30,
   "id": "liberal-passion",
   "metadata": {
    "execution": {
     "iopub.execute_input": "2022-08-25T23:15:34.674365Z",
     "iopub.status.busy": "2022-08-25T23:15:34.673249Z",
     "iopub.status.idle": "2022-08-25T23:15:34.872401Z",
     "shell.execute_reply": "2022-08-25T23:15:34.873344Z",
     "shell.execute_reply.started": "2022-08-25T23:10:13.501726Z"
    },
    "papermill": {
     "duration": 0.263211,
     "end_time": "2022-08-25T23:15:34.873564",
     "exception": false,
     "start_time": "2022-08-25T23:15:34.610353",
     "status": "completed"
    },
    "tags": []
   },
   "outputs": [
    {
     "name": "stdout",
     "output_type": "stream",
     "text": [
      "4/4 [==============================] - 0s 2ms/step - loss: nan - accuracy: 0.8700\n",
      "Test: [nan, 0.8700000047683716]\n",
      "3/3 [==============================] - 0s 2ms/step - loss: nan - accuracy: 0.8778\n",
      "Valid: [nan, 0.8777777552604675]\n",
      "26/26 [==============================] - 0s 1ms/step - loss: 0.4166 - accuracy: 0.9000\n",
      "Train: [0.4166310727596283, 0.8999999761581421]\n"
     ]
    }
   ],
   "source": [
    "print(\"Test:\", model.evaluate(X_test_enc,y_test_enc))\n",
    "print(\"Valid:\", model.evaluate(X_val_enc,y_val_enc))\n",
    "print(\"Train:\", model.evaluate(X_train_enc,y_train_enc))"
   ]
  },
  {
   "cell_type": "code",
   "execution_count": 31,
   "id": "asian-broadway",
   "metadata": {
    "_kg_hide-input": true,
    "execution": {
     "iopub.execute_input": "2022-08-25T23:15:35.005992Z",
     "iopub.status.busy": "2022-08-25T23:15:35.004979Z",
     "iopub.status.idle": "2022-08-25T23:15:39.199901Z",
     "shell.execute_reply": "2022-08-25T23:15:39.199108Z",
     "shell.execute_reply.started": "2022-08-25T23:10:13.727923Z"
    },
    "papermill": {
     "duration": 4.267565,
     "end_time": "2022-08-25T23:15:39.200063",
     "exception": false,
     "start_time": "2022-08-25T23:15:34.932498",
     "status": "completed"
    },
    "tags": []
   },
   "outputs": [
    {
     "data": {
      "text/html": [
       "        <script type=\"text/javascript\">\n",
       "        window.PlotlyConfig = {MathJaxConfig: 'local'};\n",
       "        if (window.MathJax) {MathJax.Hub.Config({SVG: {font: \"STIX-Web\"}});}\n",
       "        if (typeof require !== 'undefined') {\n",
       "        require.undef(\"plotly\");\n",
       "        requirejs.config({\n",
       "            paths: {\n",
       "                'plotly': ['https://cdn.plot.ly/plotly-latest.min']\n",
       "            }\n",
       "        });\n",
       "        require(['plotly'], function(Plotly) {\n",
       "            window._Plotly = Plotly;\n",
       "        });\n",
       "        }\n",
       "        </script>\n",
       "        "
      ]
     },
     "metadata": {},
     "output_type": "display_data"
    },
    {
     "data": {
      "text/html": [
       "<div>                            <div id=\"ad03491a-6fbf-46d3-98cc-53f63d0e953a\" class=\"plotly-graph-div\" style=\"height:525px; width:100%;\"></div>            <script type=\"text/javascript\">                require([\"plotly\"], function(Plotly) {                    window.PLOTLYENV=window.PLOTLYENV || {};                                    if (document.getElementById(\"ad03491a-6fbf-46d3-98cc-53f63d0e953a\")) {                    Plotly.newPlot(                        \"ad03491a-6fbf-46d3-98cc-53f63d0e953a\",                        [{\"marker\": {\"color\": \"Green\"}, \"mode\": \"markers+lines\", \"name\": \"Training accuracy\", \"text\": [\"1\", \"2\", \"3\", \"4\", \"5\"], \"type\": \"scatter\", \"x\": [1, 2, 3, 4, 5], \"xaxis\": \"x\", \"y\": [0.7481481432914734, 0.790123462677002, 0.8370370268821716, 0.8543210029602051, 0.8728395104408264], \"yaxis\": \"y\"}, {\"marker\": {\"color\": \"Red\"}, \"mode\": \"markers+lines\", \"name\": \"Validation accuracy\", \"text\": [\"1\", \"2\", \"3\", \"4\", \"5\"], \"type\": \"scatter\", \"x\": [1, 2, 3, 4, 5], \"xaxis\": \"x\", \"y\": [0.8777777552604675, 0.8777777552604675, 0.8777777552604675, 0.8777777552604675, 0.8777777552604675], \"yaxis\": \"y\"}, {\"marker\": {\"color\": \"Blue\"}, \"mode\": \"markers+lines\", \"name\": \"Training loss\", \"text\": [\"1\", \"2\", \"3\", \"4\", \"5\"], \"type\": \"scatter\", \"x\": [1, 2, 3, 4, 5], \"xaxis\": \"x2\", \"y\": [54.171382904052734, 27.314916610717773, 12.1652250289917, 5.185382843017578, 1.9952447414398193], \"yaxis\": \"y2\"}, {\"marker\": {\"color\": \"Magenta\"}, \"mode\": \"markers+lines\", \"name\": \"Validation loss\", \"text\": [\"1\", \"2\", \"3\", \"4\", \"5\"], \"type\": \"scatter\", \"x\": [1, 2, 3, 4, 5], \"xaxis\": \"x2\", \"y\": [null, null, null, null, null], \"yaxis\": \"y2\"}],                        {\"annotations\": [{\"font\": {\"size\": 16}, \"showarrow\": false, \"text\": \"Training and validation accuracy\", \"x\": 0.225, \"xanchor\": \"center\", \"xref\": \"paper\", \"y\": 1.0, \"yanchor\": \"bottom\", \"yref\": \"paper\"}, {\"font\": {\"size\": 16}, \"showarrow\": false, \"text\": \"Training and validation loss\", \"x\": 0.775, \"xanchor\": \"center\", \"xref\": \"paper\", \"y\": 1.0, \"yanchor\": \"bottom\", \"yref\": \"paper\"}], \"template\": {\"data\": {\"bar\": [{\"error_x\": {\"color\": \"#2a3f5f\"}, \"error_y\": {\"color\": \"#2a3f5f\"}, \"marker\": {\"line\": {\"color\": \"#E5ECF6\", \"width\": 0.5}}, \"type\": \"bar\"}], \"barpolar\": [{\"marker\": {\"line\": {\"color\": \"#E5ECF6\", \"width\": 0.5}}, \"type\": \"barpolar\"}], \"carpet\": [{\"aaxis\": {\"endlinecolor\": \"#2a3f5f\", \"gridcolor\": \"white\", \"linecolor\": \"white\", \"minorgridcolor\": \"white\", \"startlinecolor\": \"#2a3f5f\"}, \"baxis\": {\"endlinecolor\": \"#2a3f5f\", \"gridcolor\": \"white\", \"linecolor\": \"white\", \"minorgridcolor\": \"white\", \"startlinecolor\": \"#2a3f5f\"}, \"type\": \"carpet\"}], \"choropleth\": [{\"colorbar\": {\"outlinewidth\": 0, \"ticks\": \"\"}, \"type\": \"choropleth\"}], \"contour\": [{\"colorbar\": {\"outlinewidth\": 0, \"ticks\": \"\"}, \"colorscale\": [[0.0, \"#0d0887\"], [0.1111111111111111, \"#46039f\"], [0.2222222222222222, \"#7201a8\"], [0.3333333333333333, \"#9c179e\"], [0.4444444444444444, \"#bd3786\"], [0.5555555555555556, \"#d8576b\"], [0.6666666666666666, \"#ed7953\"], [0.7777777777777778, \"#fb9f3a\"], [0.8888888888888888, \"#fdca26\"], [1.0, \"#f0f921\"]], \"type\": \"contour\"}], \"contourcarpet\": [{\"colorbar\": {\"outlinewidth\": 0, \"ticks\": \"\"}, \"type\": \"contourcarpet\"}], \"heatmap\": [{\"colorbar\": {\"outlinewidth\": 0, \"ticks\": \"\"}, \"colorscale\": [[0.0, \"#0d0887\"], [0.1111111111111111, \"#46039f\"], [0.2222222222222222, \"#7201a8\"], [0.3333333333333333, \"#9c179e\"], [0.4444444444444444, \"#bd3786\"], [0.5555555555555556, \"#d8576b\"], [0.6666666666666666, \"#ed7953\"], [0.7777777777777778, \"#fb9f3a\"], [0.8888888888888888, \"#fdca26\"], [1.0, \"#f0f921\"]], \"type\": \"heatmap\"}], \"heatmapgl\": [{\"colorbar\": {\"outlinewidth\": 0, \"ticks\": \"\"}, \"colorscale\": [[0.0, \"#0d0887\"], [0.1111111111111111, \"#46039f\"], [0.2222222222222222, \"#7201a8\"], [0.3333333333333333, \"#9c179e\"], [0.4444444444444444, \"#bd3786\"], [0.5555555555555556, \"#d8576b\"], [0.6666666666666666, \"#ed7953\"], [0.7777777777777778, \"#fb9f3a\"], [0.8888888888888888, \"#fdca26\"], [1.0, \"#f0f921\"]], \"type\": \"heatmapgl\"}], \"histogram\": [{\"marker\": {\"colorbar\": {\"outlinewidth\": 0, \"ticks\": \"\"}}, \"type\": \"histogram\"}], \"histogram2d\": [{\"colorbar\": {\"outlinewidth\": 0, \"ticks\": \"\"}, \"colorscale\": [[0.0, \"#0d0887\"], [0.1111111111111111, \"#46039f\"], [0.2222222222222222, \"#7201a8\"], [0.3333333333333333, \"#9c179e\"], [0.4444444444444444, \"#bd3786\"], [0.5555555555555556, \"#d8576b\"], [0.6666666666666666, \"#ed7953\"], [0.7777777777777778, \"#fb9f3a\"], [0.8888888888888888, \"#fdca26\"], [1.0, \"#f0f921\"]], \"type\": \"histogram2d\"}], \"histogram2dcontour\": [{\"colorbar\": {\"outlinewidth\": 0, \"ticks\": \"\"}, \"colorscale\": [[0.0, \"#0d0887\"], [0.1111111111111111, \"#46039f\"], [0.2222222222222222, \"#7201a8\"], [0.3333333333333333, \"#9c179e\"], [0.4444444444444444, \"#bd3786\"], [0.5555555555555556, \"#d8576b\"], [0.6666666666666666, \"#ed7953\"], [0.7777777777777778, \"#fb9f3a\"], [0.8888888888888888, \"#fdca26\"], [1.0, \"#f0f921\"]], \"type\": \"histogram2dcontour\"}], \"mesh3d\": [{\"colorbar\": {\"outlinewidth\": 0, \"ticks\": \"\"}, \"type\": \"mesh3d\"}], \"parcoords\": [{\"line\": {\"colorbar\": {\"outlinewidth\": 0, \"ticks\": \"\"}}, \"type\": \"parcoords\"}], \"pie\": [{\"automargin\": true, \"type\": \"pie\"}], \"scatter\": [{\"marker\": {\"colorbar\": {\"outlinewidth\": 0, \"ticks\": \"\"}}, \"type\": \"scatter\"}], \"scatter3d\": [{\"line\": {\"colorbar\": {\"outlinewidth\": 0, \"ticks\": \"\"}}, \"marker\": {\"colorbar\": {\"outlinewidth\": 0, \"ticks\": \"\"}}, \"type\": \"scatter3d\"}], \"scattercarpet\": [{\"marker\": {\"colorbar\": {\"outlinewidth\": 0, \"ticks\": \"\"}}, \"type\": \"scattercarpet\"}], \"scattergeo\": [{\"marker\": {\"colorbar\": {\"outlinewidth\": 0, \"ticks\": \"\"}}, \"type\": \"scattergeo\"}], \"scattergl\": [{\"marker\": {\"colorbar\": {\"outlinewidth\": 0, \"ticks\": \"\"}}, \"type\": \"scattergl\"}], \"scattermapbox\": [{\"marker\": {\"colorbar\": {\"outlinewidth\": 0, \"ticks\": \"\"}}, \"type\": \"scattermapbox\"}], \"scatterpolar\": [{\"marker\": {\"colorbar\": {\"outlinewidth\": 0, \"ticks\": \"\"}}, \"type\": \"scatterpolar\"}], \"scatterpolargl\": [{\"marker\": {\"colorbar\": {\"outlinewidth\": 0, \"ticks\": \"\"}}, \"type\": \"scatterpolargl\"}], \"scatterternary\": [{\"marker\": {\"colorbar\": {\"outlinewidth\": 0, \"ticks\": \"\"}}, \"type\": \"scatterternary\"}], \"surface\": [{\"colorbar\": {\"outlinewidth\": 0, \"ticks\": \"\"}, \"colorscale\": [[0.0, \"#0d0887\"], [0.1111111111111111, \"#46039f\"], [0.2222222222222222, \"#7201a8\"], [0.3333333333333333, \"#9c179e\"], [0.4444444444444444, \"#bd3786\"], [0.5555555555555556, \"#d8576b\"], [0.6666666666666666, \"#ed7953\"], [0.7777777777777778, \"#fb9f3a\"], [0.8888888888888888, \"#fdca26\"], [1.0, \"#f0f921\"]], \"type\": \"surface\"}], \"table\": [{\"cells\": {\"fill\": {\"color\": \"#EBF0F8\"}, \"line\": {\"color\": \"white\"}}, \"header\": {\"fill\": {\"color\": \"#C8D4E3\"}, \"line\": {\"color\": \"white\"}}, \"type\": \"table\"}]}, \"layout\": {\"annotationdefaults\": {\"arrowcolor\": \"#2a3f5f\", \"arrowhead\": 0, \"arrowwidth\": 1}, \"autotypenumbers\": \"strict\", \"coloraxis\": {\"colorbar\": {\"outlinewidth\": 0, \"ticks\": \"\"}}, \"colorscale\": {\"diverging\": [[0, \"#8e0152\"], [0.1, \"#c51b7d\"], [0.2, \"#de77ae\"], [0.3, \"#f1b6da\"], [0.4, \"#fde0ef\"], [0.5, \"#f7f7f7\"], [0.6, \"#e6f5d0\"], [0.7, \"#b8e186\"], [0.8, \"#7fbc41\"], [0.9, \"#4d9221\"], [1, \"#276419\"]], \"sequential\": [[0.0, \"#0d0887\"], [0.1111111111111111, \"#46039f\"], [0.2222222222222222, \"#7201a8\"], [0.3333333333333333, \"#9c179e\"], [0.4444444444444444, \"#bd3786\"], [0.5555555555555556, \"#d8576b\"], [0.6666666666666666, \"#ed7953\"], [0.7777777777777778, \"#fb9f3a\"], [0.8888888888888888, \"#fdca26\"], [1.0, \"#f0f921\"]], \"sequentialminus\": [[0.0, \"#0d0887\"], [0.1111111111111111, \"#46039f\"], [0.2222222222222222, \"#7201a8\"], [0.3333333333333333, \"#9c179e\"], [0.4444444444444444, \"#bd3786\"], [0.5555555555555556, \"#d8576b\"], [0.6666666666666666, \"#ed7953\"], [0.7777777777777778, \"#fb9f3a\"], [0.8888888888888888, \"#fdca26\"], [1.0, \"#f0f921\"]]}, \"colorway\": [\"#636efa\", \"#EF553B\", \"#00cc96\", \"#ab63fa\", \"#FFA15A\", \"#19d3f3\", \"#FF6692\", \"#B6E880\", \"#FF97FF\", \"#FECB52\"], \"font\": {\"color\": \"#2a3f5f\"}, \"geo\": {\"bgcolor\": \"white\", \"lakecolor\": \"white\", \"landcolor\": \"#E5ECF6\", \"showlakes\": true, \"showland\": true, \"subunitcolor\": \"white\"}, \"hoverlabel\": {\"align\": \"left\"}, \"hovermode\": \"closest\", \"mapbox\": {\"style\": \"light\"}, \"paper_bgcolor\": \"white\", \"plot_bgcolor\": \"#E5ECF6\", \"polar\": {\"angularaxis\": {\"gridcolor\": \"white\", \"linecolor\": \"white\", \"ticks\": \"\"}, \"bgcolor\": \"#E5ECF6\", \"radialaxis\": {\"gridcolor\": \"white\", \"linecolor\": \"white\", \"ticks\": \"\"}}, \"scene\": {\"xaxis\": {\"backgroundcolor\": \"#E5ECF6\", \"gridcolor\": \"white\", \"gridwidth\": 2, \"linecolor\": \"white\", \"showbackground\": true, \"ticks\": \"\", \"zerolinecolor\": \"white\"}, \"yaxis\": {\"backgroundcolor\": \"#E5ECF6\", \"gridcolor\": \"white\", \"gridwidth\": 2, \"linecolor\": \"white\", \"showbackground\": true, \"ticks\": \"\", \"zerolinecolor\": \"white\"}, \"zaxis\": {\"backgroundcolor\": \"#E5ECF6\", \"gridcolor\": \"white\", \"gridwidth\": 2, \"linecolor\": \"white\", \"showbackground\": true, \"ticks\": \"\", \"zerolinecolor\": \"white\"}}, \"shapedefaults\": {\"line\": {\"color\": \"#2a3f5f\"}}, \"ternary\": {\"aaxis\": {\"gridcolor\": \"white\", \"linecolor\": \"white\", \"ticks\": \"\"}, \"baxis\": {\"gridcolor\": \"white\", \"linecolor\": \"white\", \"ticks\": \"\"}, \"bgcolor\": \"#E5ECF6\", \"caxis\": {\"gridcolor\": \"white\", \"linecolor\": \"white\", \"ticks\": \"\"}}, \"title\": {\"x\": 0.05}, \"xaxis\": {\"automargin\": true, \"gridcolor\": \"white\", \"linecolor\": \"white\", \"ticks\": \"\", \"title\": {\"standoff\": 15}, \"zerolinecolor\": \"white\", \"zerolinewidth\": 2}, \"yaxis\": {\"automargin\": true, \"gridcolor\": \"white\", \"linecolor\": \"white\", \"ticks\": \"\", \"title\": {\"standoff\": 15}, \"zerolinecolor\": \"white\", \"zerolinewidth\": 2}}}, \"xaxis\": {\"anchor\": \"y\", \"domain\": [0.0, 0.45], \"title\": {\"text\": \"Epoch\"}}, \"xaxis2\": {\"anchor\": \"y2\", \"domain\": [0.55, 1.0], \"title\": {\"text\": \"Epoch\"}}, \"yaxis\": {\"anchor\": \"x\", \"domain\": [0.0, 1.0], \"range\": [0, 1], \"title\": {\"text\": \"Accuracy\"}}, \"yaxis2\": {\"anchor\": \"x2\", \"domain\": [0.0, 1.0], \"range\": [0, 1], \"title\": {\"text\": \"Loss\"}}},                        {\"responsive\": true}                    ).then(function(){\n",
       "                            \n",
       "var gd = document.getElementById('ad03491a-6fbf-46d3-98cc-53f63d0e953a');\n",
       "var x = new MutationObserver(function (mutations, observer) {{\n",
       "        var display = window.getComputedStyle(gd).display;\n",
       "        if (!display || display === 'none') {{\n",
       "            console.log([gd, 'removed!']);\n",
       "            Plotly.purge(gd);\n",
       "            observer.disconnect();\n",
       "        }}\n",
       "}});\n",
       "\n",
       "// Listen for the removal of the full notebook cells\n",
       "var notebookContainer = gd.closest('#notebook-container');\n",
       "if (notebookContainer) {{\n",
       "    x.observe(notebookContainer, {childList: true});\n",
       "}}\n",
       "\n",
       "// Listen for the clearing of the current output cell\n",
       "var outputEl = gd.closest('.output');\n",
       "if (outputEl) {{\n",
       "    x.observe(outputEl, {childList: true});\n",
       "}}\n",
       "\n",
       "                        })                };                });            </script>        </div>"
      ]
     },
     "metadata": {},
     "output_type": "display_data"
    }
   ],
   "source": [
    "import plotly.graph_objs as go\n",
    "import plotly.figure_factory as ff\n",
    "from plotly import tools, subplots\n",
    "from plotly.offline import download_plotlyjs, init_notebook_mode, plot, iplot\n",
    "def create_trace(x,y,ylabel,color):\n",
    "        trace = go.Scatter(\n",
    "            x = x,y = y,\n",
    "            name=ylabel,\n",
    "            marker=dict(color=color),\n",
    "            mode = \"markers+lines\",\n",
    "            text=x\n",
    "        )\n",
    "        return trace\n",
    "    \n",
    "def plot_accuracy_and_loss(train_model):\n",
    "    hist = train_model.history\n",
    "    acc = hist['accuracy']\n",
    "    val_acc = hist['val_accuracy']\n",
    "    loss = hist['loss']\n",
    "    val_loss = hist['val_loss']\n",
    "    epochs = list(range(1,len(acc)+1))\n",
    "    #define the traces\n",
    "    trace_ta = create_trace(epochs,acc,\"Training accuracy\", \"Green\")\n",
    "    trace_va = create_trace(epochs,val_acc,\"Validation accuracy\", \"Red\")\n",
    "    trace_tl = create_trace(epochs,loss,\"Training loss\", \"Blue\")\n",
    "    trace_vl = create_trace(epochs,val_loss,\"Validation loss\", \"Magenta\")\n",
    "    fig = subplots.make_subplots(rows=1,cols=2, subplot_titles=('Training and validation accuracy',\n",
    "                                                             'Training and validation loss'))\n",
    "    #add traces to the figure\n",
    "    fig.append_trace(trace_ta,1,1)\n",
    "    fig.append_trace(trace_va,1,1)\n",
    "    fig.append_trace(trace_tl,1,2)\n",
    "    fig.append_trace(trace_vl,1,2)\n",
    "    #set the layout for the figure\n",
    "    fig['layout']['xaxis'].update(title = 'Epoch')\n",
    "    fig['layout']['xaxis2'].update(title = 'Epoch')\n",
    "    fig['layout']['yaxis'].update(title = 'Accuracy', range=[0,1])\n",
    "    fig['layout']['yaxis2'].update(title = 'Loss', range=[0,1])\n",
    "    #plot\n",
    "    iplot(fig, filename='accuracy-loss')\n",
    "\n",
    "plot_accuracy_and_loss(model_history)"
   ]
  },
  {
   "cell_type": "code",
   "execution_count": 32,
   "id": "psychological-insurance",
   "metadata": {
    "_kg_hide-input": true,
    "execution": {
     "iopub.execute_input": "2022-08-25T23:15:39.327747Z",
     "iopub.status.busy": "2022-08-25T23:15:39.326612Z",
     "iopub.status.idle": "2022-08-25T23:15:39.329337Z",
     "shell.execute_reply": "2022-08-25T23:15:39.329867Z",
     "shell.execute_reply.started": "2022-08-25T23:10:15.489923Z"
    },
    "papermill": {
     "duration": 0.069339,
     "end_time": "2022-08-25T23:15:39.330053",
     "exception": false,
     "start_time": "2022-08-25T23:15:39.260714",
     "status": "completed"
    },
    "tags": []
   },
   "outputs": [],
   "source": [
    "def test_accuracy_report(model, X, y, title=\"\"):\n",
    "    print(title)\n",
    "    predicted = model.predict(X)\n",
    "    predicted = np.round(predicted)\n",
    "    truth = y\n",
    "    print(metrics.classification_report(truth, predicted, target_names=[\"Negative\", \"Positive\"])) \n",
    "    res = model.evaluate(X, y, verbose=0)\n",
    "    print('Loss function: %s, accuracy:' % res[0], res[1])"
   ]
  },
  {
   "cell_type": "code",
   "execution_count": 33,
   "id": "indonesian-hurricane",
   "metadata": {
    "_kg_hide-input": true,
    "execution": {
     "iopub.execute_input": "2022-08-25T23:15:39.454057Z",
     "iopub.status.busy": "2022-08-25T23:15:39.453347Z",
     "iopub.status.idle": "2022-08-25T23:15:39.458114Z",
     "shell.execute_reply": "2022-08-25T23:15:39.457410Z",
     "shell.execute_reply.started": "2022-08-25T23:10:15.499727Z"
    },
    "papermill": {
     "duration": 0.067137,
     "end_time": "2022-08-25T23:15:39.458270",
     "exception": false,
     "start_time": "2022-08-25T23:15:39.391133",
     "status": "completed"
    },
    "tags": []
   },
   "outputs": [],
   "source": [
    "# test_accuracy_report(model, X_test_enc, y_test_enc, \"Test set (how well model generalize for fresh data)\")"
   ]
  },
  {
   "cell_type": "code",
   "execution_count": 34,
   "id": "everyday-sampling",
   "metadata": {
    "_kg_hide-input": true,
    "execution": {
     "iopub.execute_input": "2022-08-25T23:15:39.583223Z",
     "iopub.status.busy": "2022-08-25T23:15:39.581912Z",
     "iopub.status.idle": "2022-08-25T23:15:39.586502Z",
     "shell.execute_reply": "2022-08-25T23:15:39.587059Z",
     "shell.execute_reply.started": "2022-08-25T23:10:15.511167Z"
    },
    "papermill": {
     "duration": 0.06819,
     "end_time": "2022-08-25T23:15:39.587254",
     "exception": false,
     "start_time": "2022-08-25T23:15:39.519064",
     "status": "completed"
    },
    "tags": []
   },
   "outputs": [],
   "source": [
    "# test_accuracy_report(model, X_val_enc, y_val_enc, \"Validation set (how well model perform with validation data)\")"
   ]
  },
  {
   "cell_type": "code",
   "execution_count": 35,
   "id": "correct-contrary",
   "metadata": {
    "_kg_hide-input": true,
    "execution": {
     "iopub.execute_input": "2022-08-25T23:15:39.711003Z",
     "iopub.status.busy": "2022-08-25T23:15:39.710276Z",
     "iopub.status.idle": "2022-08-25T23:15:39.942002Z",
     "shell.execute_reply": "2022-08-25T23:15:39.941390Z",
     "shell.execute_reply.started": "2022-08-25T23:10:15.526008Z"
    },
    "papermill": {
     "duration": 0.295912,
     "end_time": "2022-08-25T23:15:39.942158",
     "exception": false,
     "start_time": "2022-08-25T23:15:39.646246",
     "status": "completed"
    },
    "tags": []
   },
   "outputs": [
    {
     "name": "stdout",
     "output_type": "stream",
     "text": [
      "Train set (how well model learns its own data)\n",
      "              precision    recall  f1-score   support\n",
      "\n",
      "    Negative       0.90      1.00      0.95       723\n",
      "    Positive       0.80      0.09      0.16        87\n",
      "\n",
      "    accuracy                           0.90       810\n",
      "   macro avg       0.85      0.54      0.56       810\n",
      "weighted avg       0.89      0.90      0.86       810\n",
      "\n",
      "Loss function: 0.4166310727596283, accuracy: 0.8999999761581421\n"
     ]
    }
   ],
   "source": [
    "test_accuracy_report(model, X_train_enc, y_train_enc, \"Train set (how well model learns its own data)\")"
   ]
  },
  {
   "cell_type": "markdown",
   "id": "israeli-campus",
   "metadata": {
    "papermill": {
     "duration": 0.06177,
     "end_time": "2022-08-25T23:15:40.068949",
     "exception": false,
     "start_time": "2022-08-25T23:15:40.007179",
     "status": "completed"
    },
    "tags": []
   },
   "source": [
    "## <a id=\"6\">Conclusions and future work</a>\n",
    "\n",
    "\n",
    "### Conclusions\n",
    "\n",
    "We used sentiment analysis libraries to calculate negtive, positive, neutral, respective polarity and subjectivity of sentiment. We used the compound factor from {postive, negative, neutral} sentiment score to label data.\n",
    "We split available data in train, validation and test data.\n",
    "We used train and validation data to train and validate a model.\n",
    "\n",
    "Then we checked the accuracy of prediction on test data (not used during training or validation) with the trained model.\n",
    "We obtained a **84%** accuracy of the sentiment polarity score prediction.\n",
    "\n",
    "### Future work\n",
    "\n",
    "We will manually label data for better performance of the training. We will train a model with the manual labeled data and apply the model to predict sentiment score for the new data, not used in the train. We will analyze next the correlation between the sentiment score obtained using pre-trained models from libraries with the sentiment obtained by applying the model.\n",
    "The model itself can be further much improve by using the following techniques:\n",
    "- Use a DL model with word embeddings Bidirectional LSTM layers;\n",
    "- Use a transformed type model;"
   ]
  }
 ],
 "metadata": {
  "kernelspec": {
   "display_name": "Python 3 (ipykernel)",
   "language": "python",
   "name": "python3"
  },
  "language_info": {
   "codemirror_mode": {
    "name": "ipython",
    "version": 3
   },
   "file_extension": ".py",
   "mimetype": "text/x-python",
   "name": "python",
   "nbconvert_exporter": "python",
   "pygments_lexer": "ipython3",
   "version": "3.10.6"
  },
  "papermill": {
   "default_parameters": {},
   "duration": 80.01877,
   "end_time": "2022-08-25T23:15:42.322418",
   "environment_variables": {},
   "exception": null,
   "input_path": "__notebook__.ipynb",
   "output_path": "__notebook__.ipynb",
   "parameters": {},
   "start_time": "2022-08-25T23:14:22.303648",
   "version": "2.3.3"
  }
 },
 "nbformat": 4,
 "nbformat_minor": 5
}
