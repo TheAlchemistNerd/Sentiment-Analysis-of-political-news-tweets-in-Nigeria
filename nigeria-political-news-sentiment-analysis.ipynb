{
 "cells": [
  {
   "cell_type": "markdown",
   "id": "ranking-fifteen",
   "metadata": {
    "papermill": {
     "duration": 0.03658,
     "end_time": "2022-08-26T12:26:08.718725",
     "exception": false,
     "start_time": "2022-08-26T12:26:08.682145",
     "status": "completed"
    },
    "tags": []
   },
   "source": [
    "<h1>Nigerian Political Tweets</h1>\n",
    "<h2> Sentiment analysis </h2>\n",
    "\n",
    "<a id=\"0\"></a>\n",
    "\n",
    "### Content  \n",
    "\n",
    "* <a href='#1'>Analysis preparation</a>  \n",
    "* <a href='#2'>Feature engineering</a>  \n",
    "* <a href='#3'>Sentiment analysis - a data exploration</a>  \n",
    "* <a href='#4'>Use sentiment polarity features for labeling</a>    \n",
    "* <a href='#5'>Train a supervised model and validate it</a>    \n",
    "* <a href='#6'>Conclusions and future work</a>  \n",
    "\n",
    "\n",
    "\n"
   ]
  },
  {
   "cell_type": "markdown",
   "id": "academic-diamond",
   "metadata": {
    "papermill": {
     "duration": 0.037711,
     "end_time": "2022-08-26T12:26:08.791807",
     "exception": false,
     "start_time": "2022-08-26T12:26:08.754096",
     "status": "completed"
    },
    "tags": []
   },
   "source": [
    "## <a id=\"1\">Analysis preparation</a>\n",
    "\n",
    "We install some missing packages:\n",
    "* vaderSentiment\n",
    "* afinn"
   ]
  },
  {
   "cell_type": "code",
   "execution_count": 1,
   "id": "convinced-relief",
   "metadata": {
    "_kg_hide-input": true,
    "_kg_hide-output": true,
    "execution": {
     "iopub.execute_input": "2022-08-26T12:26:08.873466Z",
     "iopub.status.busy": "2022-08-26T12:26:08.872789Z",
     "iopub.status.idle": "2022-08-26T12:26:26.789730Z",
     "shell.execute_reply": "2022-08-26T12:26:26.788953Z",
     "shell.execute_reply.started": "2022-08-26T12:24:13.906425Z"
    },
    "papermill": {
     "duration": 17.961813,
     "end_time": "2022-08-26T12:26:26.789908",
     "exception": false,
     "start_time": "2022-08-26T12:26:08.828095",
     "status": "completed"
    },
    "tags": []
   },
   "outputs": [
    {
     "name": "stdout",
     "output_type": "stream",
     "text": [
      "Collecting vaderSentiment\r\n",
      "  Downloading vaderSentiment-3.3.2-py2.py3-none-any.whl (125 kB)\r\n",
      "\u001b[K     |████████████████████████████████| 125 kB 904 kB/s \r\n",
      "\u001b[?25hRequirement already satisfied: requests in /opt/conda/lib/python3.7/site-packages (from vaderSentiment) (2.25.1)\r\n",
      "Requirement already satisfied: urllib3<1.27,>=1.21.1 in /opt/conda/lib/python3.7/site-packages (from requests->vaderSentiment) (1.26.4)\r\n",
      "Requirement already satisfied: idna<3,>=2.5 in /opt/conda/lib/python3.7/site-packages (from requests->vaderSentiment) (2.10)\r\n",
      "Requirement already satisfied: certifi>=2017.4.17 in /opt/conda/lib/python3.7/site-packages (from requests->vaderSentiment) (2020.12.5)\r\n",
      "Requirement already satisfied: chardet<5,>=3.0.2 in /opt/conda/lib/python3.7/site-packages (from requests->vaderSentiment) (4.0.0)\r\n",
      "Installing collected packages: vaderSentiment\r\n",
      "Successfully installed vaderSentiment-3.3.2\r\n",
      "Collecting afinn\r\n",
      "  Downloading afinn-0.1.tar.gz (52 kB)\r\n",
      "\u001b[K     |████████████████████████████████| 52 kB 445 kB/s \r\n",
      "\u001b[?25hBuilding wheels for collected packages: afinn\r\n",
      "  Building wheel for afinn (setup.py) ... \u001b[?25l-\b \b\\\b \bdone\r\n",
      "\u001b[?25h  Created wheel for afinn: filename=afinn-0.1-py3-none-any.whl size=53449 sha256=1ea74e1c2d6a946f967e8b7eacaa981d11032d52fca3c737feba864e482c8edc\r\n",
      "  Stored in directory: /root/.cache/pip/wheels/9d/16/3a/9f0953027434eab5dadf3f33ab3298fa95afa8292fcf7aba75\r\n",
      "Successfully built afinn\r\n",
      "Installing collected packages: afinn\r\n",
      "Successfully installed afinn-0.1\r\n"
     ]
    }
   ],
   "source": [
    "!pip install vaderSentiment\n",
    "!pip install afinn"
   ]
  },
  {
   "cell_type": "code",
   "execution_count": 2,
   "id": "eight-estonia",
   "metadata": {
    "execution": {
     "iopub.execute_input": "2022-08-26T12:26:26.884312Z",
     "iopub.status.busy": "2022-08-26T12:26:26.883383Z",
     "iopub.status.idle": "2022-08-26T12:26:34.391038Z",
     "shell.execute_reply": "2022-08-26T12:26:34.390052Z",
     "shell.execute_reply.started": "2022-08-26T12:24:27.891030Z"
    },
    "papermill": {
     "duration": 7.560566,
     "end_time": "2022-08-26T12:26:34.391204",
     "exception": false,
     "start_time": "2022-08-26T12:26:26.830638",
     "status": "completed"
    },
    "tags": []
   },
   "outputs": [
    {
     "name": "stdout",
     "output_type": "stream",
     "text": [
      "Collecting twython\r\n",
      "  Downloading twython-3.9.1-py3-none-any.whl (33 kB)\r\n",
      "Requirement already satisfied: requests>=2.1.0 in /opt/conda/lib/python3.7/site-packages (from twython) (2.25.1)\r\n",
      "Requirement already satisfied: requests-oauthlib>=0.4.0 in /opt/conda/lib/python3.7/site-packages (from twython) (1.3.0)\r\n",
      "Requirement already satisfied: idna<3,>=2.5 in /opt/conda/lib/python3.7/site-packages (from requests>=2.1.0->twython) (2.10)\r\n",
      "Requirement already satisfied: certifi>=2017.4.17 in /opt/conda/lib/python3.7/site-packages (from requests>=2.1.0->twython) (2020.12.5)\r\n",
      "Requirement already satisfied: urllib3<1.27,>=1.21.1 in /opt/conda/lib/python3.7/site-packages (from requests>=2.1.0->twython) (1.26.4)\r\n",
      "Requirement already satisfied: chardet<5,>=3.0.2 in /opt/conda/lib/python3.7/site-packages (from requests>=2.1.0->twython) (4.0.0)\r\n",
      "Requirement already satisfied: oauthlib>=3.0.0 in /opt/conda/lib/python3.7/site-packages (from requests-oauthlib>=0.4.0->twython) (3.0.1)\r\n",
      "Installing collected packages: twython\r\n",
      "Successfully installed twython-3.9.1\r\n"
     ]
    }
   ],
   "source": [
    "!pip install twython"
   ]
  },
  {
   "cell_type": "markdown",
   "id": "ambient-probe",
   "metadata": {
    "papermill": {
     "duration": 0.041407,
     "end_time": "2022-08-26T12:26:34.473897",
     "exception": false,
     "start_time": "2022-08-26T12:26:34.432490",
     "status": "completed"
    },
    "tags": []
   },
   "source": [
    "We then include the packages used for the analysis."
   ]
  },
  {
   "cell_type": "code",
   "execution_count": 3,
   "id": "peripheral-federation",
   "metadata": {
    "execution": {
     "iopub.execute_input": "2022-08-26T12:26:34.564502Z",
     "iopub.status.busy": "2022-08-26T12:26:34.563851Z",
     "iopub.status.idle": "2022-08-26T12:26:36.481239Z",
     "shell.execute_reply": "2022-08-26T12:26:36.480462Z",
     "shell.execute_reply.started": "2022-08-26T12:24:34.805172Z"
    },
    "papermill": {
     "duration": 1.965976,
     "end_time": "2022-08-26T12:26:36.481396",
     "exception": false,
     "start_time": "2022-08-26T12:26:34.515420",
     "status": "completed"
    },
    "tags": []
   },
   "outputs": [],
   "source": [
    "import numpy as np \n",
    "import pandas as pd\n",
    "import re\n",
    "import string\n",
    "import nltk\n",
    "from nltk.corpus import stopwords\n",
    "from string import punctuation\n",
    "from nltk.stem.porter import PorterStemmer\n",
    "from nltk.tokenize import word_tokenize\n",
    "from nltk.tokenize.treebank import TreebankWordDetokenizer\n",
    "from nltk.sentiment.vader import SentimentIntensityAnalyzer\n",
    "from textblob import TextBlob\n",
    "from afinn import Afinn\n",
    "from nltk.sentiment import SentimentAnalyzer\n",
    "from sklearn.feature_extraction.text import TfidfVectorizer\n",
    "from gensim.test.utils import common_texts\n",
    "from gensim.models.doc2vec import Doc2Vec, TaggedDocument\n",
    "import warnings\n",
    "warnings.simplefilter(\"ignore\")"
   ]
  },
  {
   "cell_type": "markdown",
   "id": "sealed-conjunction",
   "metadata": {
    "papermill": {
     "duration": 0.041719,
     "end_time": "2022-08-26T12:26:36.564483",
     "exception": false,
     "start_time": "2022-08-26T12:26:36.522764",
     "status": "completed"
    },
    "tags": []
   },
   "source": [
    "Following, we load the data."
   ]
  },
  {
   "cell_type": "code",
   "execution_count": 4,
   "id": "ambient-macintosh",
   "metadata": {
    "_kg_hide-input": true,
    "execution": {
     "iopub.execute_input": "2022-08-26T12:26:36.650556Z",
     "iopub.status.busy": "2022-08-26T12:26:36.649926Z",
     "iopub.status.idle": "2022-08-26T12:26:36.680426Z",
     "shell.execute_reply": "2022-08-26T12:26:36.681137Z",
     "shell.execute_reply.started": "2022-08-26T12:24:35.774092Z"
    },
    "papermill": {
     "duration": 0.075346,
     "end_time": "2022-08-26T12:26:36.681357",
     "exception": false,
     "start_time": "2022-08-26T12:26:36.606011",
     "status": "completed"
    },
    "tags": []
   },
   "outputs": [],
   "source": [
    "\n",
    "tweets_df = pd.read_csv('../input/political-news-fake-or-real-nigeria/output.csv')"
   ]
  },
  {
   "cell_type": "markdown",
   "id": "duplicate-mercury",
   "metadata": {
    "papermill": {
     "duration": 0.042334,
     "end_time": "2022-08-26T12:26:36.767052",
     "exception": false,
     "start_time": "2022-08-26T12:26:36.724718",
     "status": "completed"
    },
    "tags": []
   },
   "source": [
    "## <a id=\"2\">Feature engineering</a>\n",
    "\n",
    "\n",
    "### Text cleaning and preprocessing"
   ]
  },
  {
   "cell_type": "markdown",
   "id": "gentle-computer",
   "metadata": {
    "papermill": {
     "duration": 0.041896,
     "end_time": "2022-08-26T12:26:36.851168",
     "exception": false,
     "start_time": "2022-08-26T12:26:36.809272",
     "status": "completed"
    },
    "tags": []
   },
   "source": [
    "Next, we introduce few useful functions for preparing the additional features, as following:\n",
    "* data cleaning; the data filtered is not presented to the sentiment analysis extraction (we need the full context, including punctuation, for the sentiment analysis tasks).\n",
    "* text preprocessing - further text transformation: tokenization, eliminate stop words and stemming (same as before, the transformed text will not be presented to the sentiment analysis task;\n",
    "* further text transformation, using TreebankWordDetokenizer."
   ]
  },
  {
   "cell_type": "code",
   "execution_count": 5,
   "id": "particular-tuner",
   "metadata": {
    "execution": {
     "iopub.execute_input": "2022-08-26T12:26:36.938228Z",
     "iopub.status.busy": "2022-08-26T12:26:36.937533Z",
     "iopub.status.idle": "2022-08-26T12:26:36.944835Z",
     "shell.execute_reply": "2022-08-26T12:26:36.944186Z",
     "shell.execute_reply.started": "2022-08-26T12:24:35.796076Z"
    },
    "papermill": {
     "duration": 0.051567,
     "end_time": "2022-08-26T12:26:36.944986",
     "exception": false,
     "start_time": "2022-08-26T12:26:36.893419",
     "status": "completed"
    },
    "tags": []
   },
   "outputs": [],
   "source": [
    "def cleaning_data(data):\n",
    "    data['modi']=data['text'].str.lower()\n",
    "    i=0\n",
    "    for x in data['modi']:\n",
    "        for y in x:\n",
    "            if y in punctuation:\n",
    "                data['modi'][i]=data['modi'][i].replace(y,'')\n",
    "        data['modi'][i]=data['modi'][i].replace('br','')\n",
    "        i+=1\n",
    "    data = pd.concat([data.drop(['modi'], axis=1), data['modi'].apply(pd.Series)], axis=1)"
   ]
  },
  {
   "cell_type": "code",
   "execution_count": 6,
   "id": "universal-olive",
   "metadata": {
    "execution": {
     "iopub.execute_input": "2022-08-26T12:26:37.034961Z",
     "iopub.status.busy": "2022-08-26T12:26:37.034223Z",
     "iopub.status.idle": "2022-08-26T12:26:37.036848Z",
     "shell.execute_reply": "2022-08-26T12:26:37.037380Z",
     "shell.execute_reply.started": "2022-08-26T12:24:35.805764Z"
    },
    "papermill": {
     "duration": 0.051374,
     "end_time": "2022-08-26T12:26:37.037553",
     "exception": false,
     "start_time": "2022-08-26T12:26:36.986179",
     "status": "completed"
    },
    "tags": []
   },
   "outputs": [],
   "source": [
    "def preprocess_text(text):\n",
    "    tokens = word_tokenize(text)\n",
    "    stop_words = set(stopwords.words('english'))\n",
    "    tokens = [w for w in tokens if not w in stop_words]\n",
    "    porter = PorterStemmer()\n",
    "    stems = []\n",
    "    for t in tokens:    \n",
    "        stems.append(porter.stem(t))\n",
    "    return stems"
   ]
  },
  {
   "cell_type": "markdown",
   "id": "peripheral-singing",
   "metadata": {
    "papermill": {
     "duration": 0.041305,
     "end_time": "2022-08-26T12:26:37.119867",
     "exception": false,
     "start_time": "2022-08-26T12:26:37.078562",
     "status": "completed"
    },
    "tags": []
   },
   "source": [
    "Apply text cleaning (filtering), text preprocessing and further text transformation."
   ]
  },
  {
   "cell_type": "code",
   "execution_count": 7,
   "id": "mysterious-emphasis",
   "metadata": {
    "execution": {
     "iopub.execute_input": "2022-08-26T12:26:37.211760Z",
     "iopub.status.busy": "2022-08-26T12:26:37.211028Z",
     "iopub.status.idle": "2022-08-26T12:26:42.052054Z",
     "shell.execute_reply": "2022-08-26T12:26:42.052604Z",
     "shell.execute_reply.started": "2022-08-26T12:24:35.816744Z"
    },
    "papermill": {
     "duration": 4.891717,
     "end_time": "2022-08-26T12:26:42.052824",
     "exception": false,
     "start_time": "2022-08-26T12:26:37.161107",
     "status": "completed"
    },
    "tags": []
   },
   "outputs": [],
   "source": [
    "cleaning_data(tweets_df)\n",
    "tweets_df['modi']= tweets_df['modi'].apply(lambda x : preprocess_text(x))\n",
    "tweets_df['modi']=tweets_df['modi'].apply(lambda x: TreebankWordDetokenizer().detokenize(x))"
   ]
  },
  {
   "cell_type": "markdown",
   "id": "limited-audio",
   "metadata": {
    "papermill": {
     "duration": 0.041137,
     "end_time": "2022-08-26T12:26:42.135783",
     "exception": false,
     "start_time": "2022-08-26T12:26:42.094646",
     "status": "completed"
    },
    "tags": []
   },
   "source": [
    "### Sentiment analysis\n",
    "\n",
    "First, we define the functions for the sentiment analysis:\n",
    "- using TextBlob, and obtain sentiment polarity and sentiment subjectivity;\n",
    "- using vader by nltk SentimentIntensityAnalyzer;\n",
    "- using Affin.\n",
    "\n",
    "Then we calculate doc2vec transformation using gensim Doc2Vec and also calculate TF-IDF on the modified form of the text data (text that was subjcted to text cleaning and pre-processing).\n"
   ]
  },
  {
   "cell_type": "code",
   "execution_count": 8,
   "id": "unexpected-patient",
   "metadata": {
    "_kg_hide-input": true,
    "execution": {
     "iopub.execute_input": "2022-08-26T12:26:42.221007Z",
     "iopub.status.busy": "2022-08-26T12:26:42.220366Z",
     "iopub.status.idle": "2022-08-26T12:26:42.225754Z",
     "shell.execute_reply": "2022-08-26T12:26:42.226314Z",
     "shell.execute_reply.started": "2022-08-26T12:24:40.574072Z"
    },
    "papermill": {
     "duration": 0.0495,
     "end_time": "2022-08-26T12:26:42.226490",
     "exception": false,
     "start_time": "2022-08-26T12:26:42.176990",
     "status": "completed"
    },
    "tags": []
   },
   "outputs": [],
   "source": [
    "def find_sentiment_polarity_textblob(text):\n",
    "    blob = TextBlob(text)\n",
    "    polarity = 0\n",
    "    for sentence in blob.sentences:\n",
    "        polarity += sentence.sentiment.polarity\n",
    "    return polarity\n",
    "\n",
    "def find_sentiment_subjectivity_textblob(text):\n",
    "    blob = TextBlob(text)\n",
    "    subjectivity = 0\n",
    "    for sentence in blob.sentences:\n",
    "        subjectivity += sentence.sentiment.subjectivity\n",
    "    return subjectivity"
   ]
  },
  {
   "cell_type": "code",
   "execution_count": 9,
   "id": "honest-climb",
   "metadata": {
    "_kg_hide-input": true,
    "execution": {
     "iopub.execute_input": "2022-08-26T12:26:42.312029Z",
     "iopub.status.busy": "2022-08-26T12:26:42.311051Z",
     "iopub.status.idle": "2022-08-26T12:26:42.319847Z",
     "shell.execute_reply": "2022-08-26T12:26:42.320319Z",
     "shell.execute_reply.started": "2022-08-26T12:24:40.584366Z"
    },
    "jupyter": {
     "source_hidden": true
    },
    "papermill": {
     "duration": 0.053067,
     "end_time": "2022-08-26T12:26:42.320511",
     "exception": false,
     "start_time": "2022-08-26T12:26:42.267444",
     "status": "completed"
    },
    "tags": []
   },
   "outputs": [],
   "source": [
    "def sentiment_scores(data):\n",
    "    analyser = SentimentIntensityAnalyzer()\n",
    "    afin = Afinn(emoticons=True)\n",
    "    data['vader']=data['text'].apply(lambda x : analyser.polarity_scores(x))\n",
    "    data['afinn']=data['text'].apply(lambda x : afin.score(x))\n",
    "    data = pd.concat([data.drop(['vader'], axis=1), data['vader'].apply(pd.Series)], axis=1)\n",
    "    data[\"tb_pol\"] = data[\"text\"].apply(lambda x: find_sentiment_polarity_textblob(x))\n",
    "    data[\"tb_sub\"] = data[\"text\"].apply(lambda x: find_sentiment_subjectivity_textblob(x))\n",
    "    data['blob']=data['text'].apply(lambda x : TextBlob(x).sentiment)\n",
    "    data = pd.concat([data.drop(['blob'], axis=1), data['blob'].apply(pd.Series)], axis=1)\n",
    "    data['lenght'] = data['text'].apply(lambda x : len(x))\n",
    "    data['words'] = data['text'].apply(lambda x :len(x.split(\" \")))\n",
    "    return data"
   ]
  },
  {
   "cell_type": "code",
   "execution_count": 10,
   "id": "apart-kennedy",
   "metadata": {
    "_kg_hide-input": true,
    "execution": {
     "iopub.execute_input": "2022-08-26T12:26:42.405747Z",
     "iopub.status.busy": "2022-08-26T12:26:42.404805Z",
     "iopub.status.idle": "2022-08-26T12:26:42.411344Z",
     "shell.execute_reply": "2022-08-26T12:26:42.411816Z",
     "shell.execute_reply.started": "2022-08-26T12:24:40.599960Z"
    },
    "papermill": {
     "duration": 0.050693,
     "end_time": "2022-08-26T12:26:42.412001",
     "exception": false,
     "start_time": "2022-08-26T12:26:42.361308",
     "status": "completed"
    },
    "tags": []
   },
   "outputs": [],
   "source": [
    "def doc2vec(data):\n",
    "    documents = [TaggedDocument(doc, [i]) for i, doc in enumerate(data[\"modi\"].apply(lambda x: x.split(\" \")))]\n",
    "    # train a Doc2Vec model with our text data\n",
    "    model = Doc2Vec(documents, workers=4,vector_size=50,dm=0,min_count = 1)\n",
    "\n",
    "    # transform each document into a vector data\n",
    "    doc2vec_df = data[\"modi\"].apply(lambda x: model.infer_vector(x.split(\" \"))).apply(pd.Series)\n",
    "    doc2vec_df.columns = [\"d2v_\" + str(x) for x in doc2vec_df.columns]\n",
    "    data = pd.concat([data, doc2vec_df], axis=1)\n",
    "     \n",
    "    return data"
   ]
  },
  {
   "cell_type": "markdown",
   "id": "distinct-adobe",
   "metadata": {
    "papermill": {
     "duration": 0.054153,
     "end_time": "2022-08-26T12:26:42.522746",
     "exception": false,
     "start_time": "2022-08-26T12:26:42.468593",
     "status": "completed"
    },
    "tags": []
   },
   "source": [
    "### End to end feature engineering\n",
    "\n",
    "We apply in the make_features function (see below) the transformations (to calculate sentiment scores and to form the vectorized features from modified text data)."
   ]
  },
  {
   "cell_type": "code",
   "execution_count": 11,
   "id": "compliant-chicago",
   "metadata": {
    "_kg_hide-input": true,
    "execution": {
     "iopub.execute_input": "2022-08-26T12:26:42.612183Z",
     "iopub.status.busy": "2022-08-26T12:26:42.611208Z",
     "iopub.status.idle": "2022-08-26T12:26:42.618075Z",
     "shell.execute_reply": "2022-08-26T12:26:42.618536Z",
     "shell.execute_reply.started": "2022-08-26T12:24:40.612082Z"
    },
    "papermill": {
     "duration": 0.051399,
     "end_time": "2022-08-26T12:26:42.618754",
     "exception": false,
     "start_time": "2022-08-26T12:26:42.567355",
     "status": "completed"
    },
    "tags": []
   },
   "outputs": [],
   "source": [
    "def make_features(data):\n",
    "    data = sentiment_scores(data)\n",
    "    data = doc2vec(data)\n",
    "    \n",
    "    tfidf = TfidfVectorizer(min_df=10,max_df=0.6,ngram_range=(1,3))\n",
    "    tfidf.fit(data[\"modi\"])\n",
    "    tfidf_result = tfidf.transform(data[\"modi\"]).toarray()\n",
    "    tfidf_df = pd.DataFrame(tfidf_result, columns = tfidf.get_feature_names())\n",
    "    tfidf_df.columns = [\"word_\" + str(x) for x in tfidf_df.columns]\n",
    "    tfidf_df.index = data.index\n",
    "    data = pd.concat([data, tfidf_df], axis=1)\n",
    "\n",
    "    data.fillna(0,inplace=True)\n",
    "    return data"
   ]
  },
  {
   "cell_type": "code",
   "execution_count": 12,
   "id": "private-medicine",
   "metadata": {
    "_kg_hide-input": true,
    "execution": {
     "iopub.execute_input": "2022-08-26T12:26:42.704938Z",
     "iopub.status.busy": "2022-08-26T12:26:42.704001Z",
     "iopub.status.idle": "2022-08-26T12:26:47.666585Z",
     "shell.execute_reply": "2022-08-26T12:26:47.665339Z",
     "shell.execute_reply.started": "2022-08-26T12:24:40.622185Z"
    },
    "papermill": {
     "duration": 5.006697,
     "end_time": "2022-08-26T12:26:47.666765",
     "exception": false,
     "start_time": "2022-08-26T12:26:42.660068",
     "status": "completed"
    },
    "tags": []
   },
   "outputs": [],
   "source": [
    "x = make_features(tweets_df)"
   ]
  },
  {
   "cell_type": "markdown",
   "id": "according-crack",
   "metadata": {
    "papermill": {
     "duration": 0.040508,
     "end_time": "2022-08-26T12:26:47.748813",
     "exception": false,
     "start_time": "2022-08-26T12:26:47.708305",
     "status": "completed"
    },
    "tags": []
   },
   "source": [
    "Let's look to the original text, the pre-processed text (`modi`),  extracted sentiment analysis features and few more features extracted (length of initial text, number of words)."
   ]
  },
  {
   "cell_type": "code",
   "execution_count": 13,
   "id": "residential-amplifier",
   "metadata": {
    "_kg_hide-input": true,
    "execution": {
     "iopub.execute_input": "2022-08-26T12:26:47.837869Z",
     "iopub.status.busy": "2022-08-26T12:26:47.837139Z",
     "iopub.status.idle": "2022-08-26T12:26:47.861965Z",
     "shell.execute_reply": "2022-08-26T12:26:47.862449Z",
     "shell.execute_reply.started": "2022-08-26T12:24:45.616115Z"
    },
    "papermill": {
     "duration": 0.072497,
     "end_time": "2022-08-26T12:26:47.862634",
     "exception": false,
     "start_time": "2022-08-26T12:26:47.790137",
     "status": "completed"
    },
    "tags": []
   },
   "outputs": [
    {
     "data": {
      "text/html": [
       "<div>\n",
       "<style scoped>\n",
       "    .dataframe tbody tr th:only-of-type {\n",
       "        vertical-align: middle;\n",
       "    }\n",
       "\n",
       "    .dataframe tbody tr th {\n",
       "        vertical-align: top;\n",
       "    }\n",
       "\n",
       "    .dataframe thead th {\n",
       "        text-align: right;\n",
       "    }\n",
       "</style>\n",
       "<table border=\"1\" class=\"dataframe\">\n",
       "  <thead>\n",
       "    <tr style=\"text-align: right;\">\n",
       "      <th></th>\n",
       "      <th>text</th>\n",
       "      <th>modi</th>\n",
       "      <th>afinn</th>\n",
       "      <th>neg</th>\n",
       "      <th>neu</th>\n",
       "      <th>pos</th>\n",
       "      <th>compound</th>\n",
       "      <th>tb_pol</th>\n",
       "      <th>tb_sub</th>\n",
       "      <th>lenght</th>\n",
       "      <th>words</th>\n",
       "    </tr>\n",
       "  </thead>\n",
       "  <tbody>\n",
       "    <tr>\n",
       "      <th>0</th>\n",
       "      <td>RT @StFreakingKezy: If you to confirm the auth...</td>\n",
       "      <td>rt stfreakingkezi confirm authent inform niger...</td>\n",
       "      <td>0.0</td>\n",
       "      <td>0.0</td>\n",
       "      <td>1.000</td>\n",
       "      <td>0.000</td>\n",
       "      <td>0.0000</td>\n",
       "      <td>0.0</td>\n",
       "      <td>0.00</td>\n",
       "      <td>144</td>\n",
       "      <td>23</td>\n",
       "    </tr>\n",
       "    <tr>\n",
       "      <th>1</th>\n",
       "      <td>RT @NigeriaNewsdesk: APC: North Central geo po...</td>\n",
       "      <td>rt nigerianewsdesk apc north central geo polit...</td>\n",
       "      <td>0.0</td>\n",
       "      <td>0.0</td>\n",
       "      <td>0.847</td>\n",
       "      <td>0.153</td>\n",
       "      <td>0.4019</td>\n",
       "      <td>0.0</td>\n",
       "      <td>0.15</td>\n",
       "      <td>130</td>\n",
       "      <td>16</td>\n",
       "    </tr>\n",
       "    <tr>\n",
       "      <th>2</th>\n",
       "      <td>RT @NigeriaNewsdesk: APC: North Central geo po...</td>\n",
       "      <td>rt nigerianewsdesk apc north central geo polit...</td>\n",
       "      <td>0.0</td>\n",
       "      <td>0.0</td>\n",
       "      <td>0.847</td>\n",
       "      <td>0.153</td>\n",
       "      <td>0.4019</td>\n",
       "      <td>0.0</td>\n",
       "      <td>0.15</td>\n",
       "      <td>130</td>\n",
       "      <td>16</td>\n",
       "    </tr>\n",
       "    <tr>\n",
       "      <th>3</th>\n",
       "      <td>RT @NigeriaNewsdesk: APC: North Central geo po...</td>\n",
       "      <td>rt nigerianewsdesk apc north central geo polit...</td>\n",
       "      <td>0.0</td>\n",
       "      <td>0.0</td>\n",
       "      <td>0.847</td>\n",
       "      <td>0.153</td>\n",
       "      <td>0.4019</td>\n",
       "      <td>0.0</td>\n",
       "      <td>0.15</td>\n",
       "      <td>130</td>\n",
       "      <td>16</td>\n",
       "    </tr>\n",
       "    <tr>\n",
       "      <th>4</th>\n",
       "      <td>RT @StFreakingKezy: If you to confirm the auth...</td>\n",
       "      <td>rt stfreakingkezi confirm authent inform niger...</td>\n",
       "      <td>0.0</td>\n",
       "      <td>0.0</td>\n",
       "      <td>1.000</td>\n",
       "      <td>0.000</td>\n",
       "      <td>0.0000</td>\n",
       "      <td>0.0</td>\n",
       "      <td>0.00</td>\n",
       "      <td>144</td>\n",
       "      <td>23</td>\n",
       "    </tr>\n",
       "  </tbody>\n",
       "</table>\n",
       "</div>"
      ],
      "text/plain": [
       "                                                text  \\\n",
       "0  RT @StFreakingKezy: If you to confirm the auth...   \n",
       "1  RT @NigeriaNewsdesk: APC: North Central geo po...   \n",
       "2  RT @NigeriaNewsdesk: APC: North Central geo po...   \n",
       "3  RT @NigeriaNewsdesk: APC: North Central geo po...   \n",
       "4  RT @StFreakingKezy: If you to confirm the auth...   \n",
       "\n",
       "                                                modi  afinn  neg    neu  \\\n",
       "0  rt stfreakingkezi confirm authent inform niger...    0.0  0.0  1.000   \n",
       "1  rt nigerianewsdesk apc north central geo polit...    0.0  0.0  0.847   \n",
       "2  rt nigerianewsdesk apc north central geo polit...    0.0  0.0  0.847   \n",
       "3  rt nigerianewsdesk apc north central geo polit...    0.0  0.0  0.847   \n",
       "4  rt stfreakingkezi confirm authent inform niger...    0.0  0.0  1.000   \n",
       "\n",
       "     pos  compound  tb_pol  tb_sub  lenght  words  \n",
       "0  0.000    0.0000     0.0    0.00     144     23  \n",
       "1  0.153    0.4019     0.0    0.15     130     16  \n",
       "2  0.153    0.4019     0.0    0.15     130     16  \n",
       "3  0.153    0.4019     0.0    0.15     130     16  \n",
       "4  0.000    0.0000     0.0    0.00     144     23  "
      ]
     },
     "execution_count": 13,
     "metadata": {},
     "output_type": "execute_result"
    }
   ],
   "source": [
    "selected_columns = ['text', 'modi', 'afinn', 'neg', 'neu', 'pos', 'compound', 'tb_pol', 'tb_sub', 'lenght', 'words']\n",
    "x[selected_columns].head()"
   ]
  },
  {
   "cell_type": "markdown",
   "id": "sitting-victorian",
   "metadata": {
    "papermill": {
     "duration": 0.041326,
     "end_time": "2022-08-26T12:26:47.946493",
     "exception": false,
     "start_time": "2022-08-26T12:26:47.905167",
     "status": "completed"
    },
    "tags": []
   },
   "source": [
    "## <a id=\"3\">Sentiment analysis - a data exploration</a>"
   ]
  },
  {
   "cell_type": "code",
   "execution_count": 14,
   "id": "editorial-advantage",
   "metadata": {
    "_kg_hide-input": true,
    "execution": {
     "iopub.execute_input": "2022-08-26T12:26:48.036041Z",
     "iopub.status.busy": "2022-08-26T12:26:48.035391Z",
     "iopub.status.idle": "2022-08-26T12:26:48.110470Z",
     "shell.execute_reply": "2022-08-26T12:26:48.109783Z",
     "shell.execute_reply.started": "2022-08-26T12:24:45.645077Z"
    },
    "papermill": {
     "duration": 0.121052,
     "end_time": "2022-08-26T12:26:48.110615",
     "exception": false,
     "start_time": "2022-08-26T12:26:47.989563",
     "status": "completed"
    },
    "tags": []
   },
   "outputs": [],
   "source": [
    "import numpy as np\n",
    "import pandas as pd \n",
    "import matplotlib.pyplot as plt\n",
    "import seaborn as sns "
   ]
  },
  {
   "cell_type": "code",
   "execution_count": 15,
   "id": "sound-shareware",
   "metadata": {
    "_kg_hide-input": true,
    "execution": {
     "iopub.execute_input": "2022-08-26T12:26:48.205658Z",
     "iopub.status.busy": "2022-08-26T12:26:48.204990Z",
     "iopub.status.idle": "2022-08-26T12:26:53.882259Z",
     "shell.execute_reply": "2022-08-26T12:26:53.882811Z",
     "shell.execute_reply.started": "2022-08-26T12:24:45.680434Z"
    },
    "papermill": {
     "duration": 5.730523,
     "end_time": "2022-08-26T12:26:53.883005",
     "exception": false,
     "start_time": "2022-08-26T12:26:48.152482",
     "status": "completed"
    },
    "tags": []
   },
   "outputs": [
    {
     "data": {
      "text/plain": [
       "<seaborn.axisgrid.PairGrid at 0x7fc4ff02da10>"
      ]
     },
     "execution_count": 15,
     "metadata": {},
     "output_type": "execute_result"
    },
    {
     "data": {
      "image/png": "[encoded data removed]",
      "text/plain": [
       "<Figure size 1260x1260 with 35 Axes>"
      ]
     },
     "metadata": {
      "needs_background": "light"
     },
     "output_type": "display_data"
    }
   ],
   "source": [
    "selected = [\"afinn\", \"compound\",\"neg\", \"neu\", \"pos\",\"tb_pol\", \"tb_sub\"]\n",
    "sns.pairplot(x[selected].sample(500), diag_kind=\"kde\", corner=True)"
   ]
  },
  {
   "cell_type": "markdown",
   "id": "monthly-cruise",
   "metadata": {
    "papermill": {
     "duration": 0.049619,
     "end_time": "2022-08-26T12:26:53.983529",
     "exception": false,
     "start_time": "2022-08-26T12:26:53.933910",
     "status": "completed"
    },
    "tags": []
   },
   "source": [
    "## <a id=\"4\">Use sentiment polarity features for labeling</a>\n",
    "\n",
    "\n",
    "We will use `compound` feature for labeling, as following:\n",
    "* if the feature is smaller than 0, we label as `negative` (0) the tweet;\n",
    "* if the feature is larger than 0, we label as `positive` (1) the tweet."
   ]
  },
  {
   "cell_type": "code",
   "execution_count": 16,
   "id": "considered-princess",
   "metadata": {
    "_kg_hide-input": true,
    "execution": {
     "iopub.execute_input": "2022-08-26T12:26:54.087473Z",
     "iopub.status.busy": "2022-08-26T12:26:54.086833Z",
     "iopub.status.idle": "2022-08-26T12:26:54.089465Z",
     "shell.execute_reply": "2022-08-26T12:26:54.088843Z",
     "shell.execute_reply.started": "2022-08-26T12:24:51.299148Z"
    },
    "papermill": {
     "duration": 0.057056,
     "end_time": "2022-08-26T12:26:54.089607",
     "exception": false,
     "start_time": "2022-08-26T12:26:54.032551",
     "status": "completed"
    },
    "tags": []
   },
   "outputs": [],
   "source": [
    "def label_based_on_compound_value(compound):\n",
    "    if compound > 0:\n",
    "        return 1 # positive\n",
    "    else:\n",
    "        return 0 # negative"
   ]
  },
  {
   "cell_type": "code",
   "execution_count": 17,
   "id": "facial-transmission",
   "metadata": {
    "execution": {
     "iopub.execute_input": "2022-08-26T12:26:54.190543Z",
     "iopub.status.busy": "2022-08-26T12:26:54.189902Z",
     "iopub.status.idle": "2022-08-26T12:26:54.195500Z",
     "shell.execute_reply": "2022-08-26T12:26:54.196039Z",
     "shell.execute_reply.started": "2022-08-26T12:24:51.306202Z"
    },
    "papermill": {
     "duration": 0.057639,
     "end_time": "2022-08-26T12:26:54.196216",
     "exception": false,
     "start_time": "2022-08-26T12:26:54.138577",
     "status": "completed"
    },
    "tags": []
   },
   "outputs": [],
   "source": [
    "x['label'] = x['compound'].apply(lambda x: label_based_on_compound_value(x))"
   ]
  },
  {
   "cell_type": "markdown",
   "id": "neural-present",
   "metadata": {
    "papermill": {
     "duration": 0.048345,
     "end_time": "2022-08-26T12:26:54.293187",
     "exception": false,
     "start_time": "2022-08-26T12:26:54.244842",
     "status": "completed"
    },
    "tags": []
   },
   "source": [
    "## <a id=\"5\">Train a supervised model and validate it</a>\n",
    "\n",
    "We select the columns to include into the model."
   ]
  },
  {
   "cell_type": "code",
   "execution_count": 18,
   "id": "practical-dream",
   "metadata": {
    "execution": {
     "iopub.execute_input": "2022-08-26T12:26:54.394260Z",
     "iopub.status.busy": "2022-08-26T12:26:54.393556Z",
     "iopub.status.idle": "2022-08-26T12:26:54.397213Z",
     "shell.execute_reply": "2022-08-26T12:26:54.397772Z",
     "shell.execute_reply.started": "2022-08-26T12:24:51.320094Z"
    },
    "papermill": {
     "duration": 0.055835,
     "end_time": "2022-08-26T12:26:54.397944",
     "exception": false,
     "start_time": "2022-08-26T12:26:54.342109",
     "status": "completed"
    },
    "tags": []
   },
   "outputs": [],
   "source": [
    "ignore_columns = ['id', 'date_created', 'text', 'modi']"
   ]
  },
  {
   "cell_type": "markdown",
   "id": "marked-detector",
   "metadata": {
    "papermill": {
     "duration": 0.049057,
     "end_time": "2022-08-26T12:26:54.496102",
     "exception": false,
     "start_time": "2022-08-26T12:26:54.447045",
     "status": "completed"
    },
    "tags": []
   },
   "source": [
    "We create a train, validation and test set. We select 10% of the data for test set. From the remaining 90%, 90% (or 81% from initial dataset) we use as train and the rest of 10% as validation data."
   ]
  },
  {
   "cell_type": "code",
   "execution_count": 19,
   "id": "placed-gambling",
   "metadata": {
    "_kg_hide-input": true,
    "execution": {
     "iopub.execute_input": "2022-08-26T12:26:54.609231Z",
     "iopub.status.busy": "2022-08-26T12:26:54.608521Z",
     "iopub.status.idle": "2022-08-26T12:26:54.631951Z",
     "shell.execute_reply": "2022-08-26T12:26:54.632465Z",
     "shell.execute_reply.started": "2022-08-26T12:24:51.327698Z"
    },
    "papermill": {
     "duration": 0.086682,
     "end_time": "2022-08-26T12:26:54.632645",
     "exception": false,
     "start_time": "2022-08-26T12:26:54.545963",
     "status": "completed"
    },
    "tags": []
   },
   "outputs": [],
   "source": [
    "from sklearn.model_selection import train_test_split\n",
    "features = [c for c in list(x.columns) if c not in ignore_columns]\n",
    "train_labels = x['label']\n",
    "X_train, X_test, y_train, y_test = train_test_split(x[features], train_labels, test_size=0.1, random_state=42)\n",
    "X_train, X_val, y_train, y_val = train_test_split(X_train, y_train, test_size=0.1, random_state=42)"
   ]
  },
  {
   "cell_type": "code",
   "execution_count": 20,
   "id": "determined-brown",
   "metadata": {
    "execution": {
     "iopub.execute_input": "2022-08-26T12:26:54.732913Z",
     "iopub.status.busy": "2022-08-26T12:26:54.732290Z",
     "iopub.status.idle": "2022-08-26T12:26:54.776790Z",
     "shell.execute_reply": "2022-08-26T12:26:54.777364Z",
     "shell.execute_reply.started": "2022-08-26T12:24:51.358518Z"
    },
    "papermill": {
     "duration": 0.09605,
     "end_time": "2022-08-26T12:26:54.777544",
     "exception": false,
     "start_time": "2022-08-26T12:26:54.681494",
     "status": "completed"
    },
    "tags": []
   },
   "outputs": [
    {
     "name": "stdout",
     "output_type": "stream",
     "text": [
      "<class 'pandas.core.frame.DataFrame'>\n",
      "Int64Index: 810 entries, 633 to 695\n",
      "Columns: 700 entries, Unnamed: 0 to label\n",
      "dtypes: float32(50), float64(646), int64(4)\n",
      "memory usage: 4.2 MB\n"
     ]
    }
   ],
   "source": [
    "X_train.info()"
   ]
  },
  {
   "cell_type": "code",
   "execution_count": 21,
   "id": "thrown-plymouth",
   "metadata": {
    "execution": {
     "iopub.execute_input": "2022-08-26T12:26:54.881597Z",
     "iopub.status.busy": "2022-08-26T12:26:54.880858Z",
     "iopub.status.idle": "2022-08-26T12:26:54.887359Z",
     "shell.execute_reply": "2022-08-26T12:26:54.887941Z",
     "shell.execute_reply.started": "2022-08-26T12:24:51.403376Z"
    },
    "papermill": {
     "duration": 0.060229,
     "end_time": "2022-08-26T12:26:54.888119",
     "exception": false,
     "start_time": "2022-08-26T12:26:54.827890",
     "status": "completed"
    },
    "tags": []
   },
   "outputs": [],
   "source": [
    "from sklearn.preprocessing import LabelEncoder, OrdinalEncoder\n",
    "\n",
    "# prepare input data\n",
    "def prepare_inputs(X_train, X_test, X_val):\n",
    "    oe = OrdinalEncoder(handle_unknown='use_encoded_value', unknown_value = np.nan)\n",
    "    oe.fit(X_train)\n",
    "    X_train_enc = oe.transform(X_train)\n",
    "    X_test_enc = oe.transform(X_test)\n",
    "    X_val_enc = oe.transform(X_val)\n",
    "    return X_train_enc, X_test_enc, X_val_enc\n",
    " \n",
    "# prepare target\n",
    "def prepare_targets(y_train, y_test, y_val):\n",
    "    le = LabelEncoder()\n",
    "    le.fit(y_train)\n",
    "    y_train_enc = le.transform(y_train)\n",
    "    y_test_enc = le.transform(y_test)\n",
    "    y_val_enc = le.transform(y_val)\n",
    "    return y_train_enc, y_test_enc, y_val_enc"
   ]
  },
  {
   "cell_type": "code",
   "execution_count": 22,
   "id": "played-packaging",
   "metadata": {
    "execution": {
     "iopub.execute_input": "2022-08-26T12:26:54.990127Z",
     "iopub.status.busy": "2022-08-26T12:26:54.989158Z",
     "iopub.status.idle": "2022-08-26T12:26:55.574417Z",
     "shell.execute_reply": "2022-08-26T12:26:55.574979Z",
     "shell.execute_reply.started": "2022-08-26T12:24:51.412265Z"
    },
    "papermill": {
     "duration": 0.637851,
     "end_time": "2022-08-26T12:26:55.575168",
     "exception": false,
     "start_time": "2022-08-26T12:26:54.937317",
     "status": "completed"
    },
    "tags": []
   },
   "outputs": [],
   "source": [
    "# prepare input data\n",
    "X_train_enc, X_test_enc, X_val_enc = prepare_inputs(X_train, X_test, X_val)\n",
    "# prepare output data\n",
    "y_train_enc, y_test_enc, y_val_enc = prepare_targets(y_train, y_test, y_val)"
   ]
  },
  {
   "cell_type": "code",
   "execution_count": 23,
   "id": "massive-basics",
   "metadata": {
    "execution": {
     "iopub.execute_input": "2022-08-26T12:26:55.679858Z",
     "iopub.status.busy": "2022-08-26T12:26:55.679164Z",
     "iopub.status.idle": "2022-08-26T12:26:55.880043Z",
     "shell.execute_reply": "2022-08-26T12:26:55.879421Z",
     "shell.execute_reply.started": "2022-08-26T12:24:52.007324Z"
    },
    "papermill": {
     "duration": 0.253612,
     "end_time": "2022-08-26T12:26:55.880188",
     "exception": false,
     "start_time": "2022-08-26T12:26:55.626576",
     "status": "completed"
    },
    "tags": []
   },
   "outputs": [],
   "source": [
    "# handling missing values\n",
    "from sklearn.impute import SimpleImputer\n",
    "imputer = SimpleImputer(missing_values=np.nan, strategy='most_frequent')\n",
    "imputer.fit(X_train_enc)\n",
    "\n",
    "X_test_enc = imputer.transform(X_test_enc).astype(np.float32)\n",
    "X_val_enc = imputer.transform(X_val_enc).astype(np.float32)"
   ]
  },
  {
   "cell_type": "code",
   "execution_count": 24,
   "id": "white-indonesia",
   "metadata": {
    "_kg_hide-input": true,
    "execution": {
     "iopub.execute_input": "2022-08-26T12:26:55.982348Z",
     "iopub.status.busy": "2022-08-26T12:26:55.981625Z",
     "iopub.status.idle": "2022-08-26T12:26:55.987044Z",
     "shell.execute_reply": "2022-08-26T12:26:55.987549Z",
     "shell.execute_reply.started": "2022-08-26T12:24:52.139760Z"
    },
    "papermill": {
     "duration": 0.057884,
     "end_time": "2022-08-26T12:26:55.987780",
     "exception": false,
     "start_time": "2022-08-26T12:26:55.929896",
     "status": "completed"
    },
    "tags": []
   },
   "outputs": [
    {
     "name": "stdout",
     "output_type": "stream",
     "text": [
      "train: (810, 700), test: (100, 700), valid: (90, 700)\n"
     ]
    }
   ],
   "source": [
    "print(f\"train: {X_train_enc.shape}, test: {X_test_enc.shape}, valid: {X_val_enc.shape}\")"
   ]
  },
  {
   "cell_type": "markdown",
   "id": "finnish-confusion",
   "metadata": {
    "papermill": {
     "duration": 0.049747,
     "end_time": "2022-08-26T12:26:56.087563",
     "exception": false,
     "start_time": "2022-08-26T12:26:56.037816",
     "status": "completed"
    },
    "tags": []
   },
   "source": [
    "We import the libraries for the model."
   ]
  },
  {
   "cell_type": "code",
   "execution_count": 25,
   "id": "arranged-twist",
   "metadata": {
    "_kg_hide-input": true,
    "execution": {
     "iopub.execute_input": "2022-08-26T12:26:56.193899Z",
     "iopub.status.busy": "2022-08-26T12:26:56.193197Z",
     "iopub.status.idle": "2022-08-26T12:27:02.387460Z",
     "shell.execute_reply": "2022-08-26T12:27:02.386895Z",
     "shell.execute_reply.started": "2022-08-26T12:24:52.147438Z"
    },
    "papermill": {
     "duration": 6.249985,
     "end_time": "2022-08-26T12:27:02.387621",
     "exception": false,
     "start_time": "2022-08-26T12:26:56.137636",
     "status": "completed"
    },
    "tags": []
   },
   "outputs": [],
   "source": [
    "from keras.layers import Dense\n",
    "from keras.models import Model\n",
    "from keras.layers import Input, Dense, Activation\n",
    "from keras.models import Sequential\n",
    "from keras.layers import Dropout\n",
    "from keras.layers import Bidirectional\n",
    "from keras.callbacks import ModelCheckpoint, Callback, EarlyStopping, ReduceLROnPlateau, LearningRateScheduler\n",
    "from keras import optimizers\n",
    "import keras\n",
    "from sklearn import metrics"
   ]
  },
  {
   "cell_type": "markdown",
   "id": "coated-ladder",
   "metadata": {
    "papermill": {
     "duration": 0.049649,
     "end_time": "2022-08-26T12:27:02.487397",
     "exception": false,
     "start_time": "2022-08-26T12:27:02.437748",
     "status": "completed"
    },
    "tags": []
   },
   "source": [
    "We define the model. Will use (for this baseline) few Dense layers and few Dropouts  layers (to reduce overfitting)."
   ]
  },
  {
   "cell_type": "code",
   "execution_count": 26,
   "id": "tutorial-roommate",
   "metadata": {
    "_kg_hide-input": true,
    "execution": {
     "iopub.execute_input": "2022-08-26T12:27:02.597449Z",
     "iopub.status.busy": "2022-08-26T12:27:02.596797Z",
     "iopub.status.idle": "2022-08-26T12:27:02.708320Z",
     "shell.execute_reply": "2022-08-26T12:27:02.707738Z",
     "shell.execute_reply.started": "2022-08-26T12:24:54.150641Z"
    },
    "papermill": {
     "duration": 0.17158,
     "end_time": "2022-08-26T12:27:02.708489",
     "exception": false,
     "start_time": "2022-08-26T12:27:02.536909",
     "status": "completed"
    },
    "tags": []
   },
   "outputs": [],
   "source": [
    "model = Sequential([\n",
    "    Dense(32, input_shape=(x[features].shape[1],)),\n",
    "    Activation('relu'),\n",
    "    Dropout(0.85),\n",
    "    Dense(16),\n",
    "    Activation('relu'),\n",
    "    Dropout(0.55),\n",
    "    Dense(1),\n",
    "    Activation('sigmoid'),\n",
    "])"
   ]
  },
  {
   "cell_type": "markdown",
   "id": "coated-withdrawal",
   "metadata": {
    "papermill": {
     "duration": 0.051271,
     "end_time": "2022-08-26T12:27:02.811314",
     "exception": false,
     "start_time": "2022-08-26T12:27:02.760043",
     "status": "completed"
    },
    "tags": []
   },
   "source": [
    "Let's glimpse the model structure."
   ]
  },
  {
   "cell_type": "code",
   "execution_count": 27,
   "id": "flying-spectrum",
   "metadata": {
    "_kg_hide-input": true,
    "execution": {
     "iopub.execute_input": "2022-08-26T12:27:02.917753Z",
     "iopub.status.busy": "2022-08-26T12:27:02.916521Z",
     "iopub.status.idle": "2022-08-26T12:27:02.929258Z",
     "shell.execute_reply": "2022-08-26T12:27:02.928480Z",
     "shell.execute_reply.started": "2022-08-26T12:24:54.223774Z"
    },
    "papermill": {
     "duration": 0.067148,
     "end_time": "2022-08-26T12:27:02.929425",
     "exception": false,
     "start_time": "2022-08-26T12:27:02.862277",
     "status": "completed"
    },
    "tags": []
   },
   "outputs": [
    {
     "name": "stdout",
     "output_type": "stream",
     "text": [
      "Model: \"sequential\"\n",
      "_________________________________________________________________\n",
      "Layer (type)                 Output Shape              Param #   \n",
      "=================================================================\n",
      "dense (Dense)                (None, 32)                22432     \n",
      "_________________________________________________________________\n",
      "activation (Activation)      (None, 32)                0         \n",
      "_________________________________________________________________\n",
      "dropout (Dropout)            (None, 32)                0         \n",
      "_________________________________________________________________\n",
      "dense_1 (Dense)              (None, 16)                528       \n",
      "_________________________________________________________________\n",
      "activation_1 (Activation)    (None, 16)                0         \n",
      "_________________________________________________________________\n",
      "dropout_1 (Dropout)          (None, 16)                0         \n",
      "_________________________________________________________________\n",
      "dense_2 (Dense)              (None, 1)                 17        \n",
      "_________________________________________________________________\n",
      "activation_2 (Activation)    (None, 1)                 0         \n",
      "=================================================================\n",
      "Total params: 22,977\n",
      "Trainable params: 22,977\n",
      "Non-trainable params: 0\n",
      "_________________________________________________________________\n"
     ]
    }
   ],
   "source": [
    "model.summary()"
   ]
  },
  {
   "cell_type": "markdown",
   "id": "consistent-print",
   "metadata": {
    "papermill": {
     "duration": 0.052714,
     "end_time": "2022-08-26T12:27:03.033783",
     "exception": false,
     "start_time": "2022-08-26T12:27:02.981069",
     "status": "completed"
    },
    "tags": []
   },
   "source": [
    "We prepare now to fit the model. We will use as well validation data during model training. We train for 100 epochs."
   ]
  },
  {
   "cell_type": "code",
   "execution_count": 28,
   "id": "descending-imaging",
   "metadata": {
    "_kg_hide-input": true,
    "execution": {
     "iopub.execute_input": "2022-08-26T12:27:03.143922Z",
     "iopub.status.busy": "2022-08-26T12:27:03.143203Z",
     "iopub.status.idle": "2022-08-26T12:27:03.152431Z",
     "shell.execute_reply": "2022-08-26T12:27:03.152948Z",
     "shell.execute_reply.started": "2022-08-26T12:24:54.234920Z"
    },
    "papermill": {
     "duration": 0.069009,
     "end_time": "2022-08-26T12:27:03.153136",
     "exception": false,
     "start_time": "2022-08-26T12:27:03.084127",
     "status": "completed"
    },
    "tags": []
   },
   "outputs": [],
   "source": [
    "model.compile(optimizer=keras.optimizers.Adam(), loss='binary_crossentropy', metrics=['accuracy'])"
   ]
  },
  {
   "cell_type": "code",
   "execution_count": 29,
   "id": "stuck-insight",
   "metadata": {
    "execution": {
     "iopub.execute_input": "2022-08-26T12:27:03.259833Z",
     "iopub.status.busy": "2022-08-26T12:27:03.258852Z",
     "iopub.status.idle": "2022-08-26T12:27:03.262118Z",
     "shell.execute_reply": "2022-08-26T12:27:03.261435Z",
     "shell.execute_reply.started": "2022-08-26T12:24:54.257685Z"
    },
    "papermill": {
     "duration": 0.059087,
     "end_time": "2022-08-26T12:27:03.262272",
     "exception": false,
     "start_time": "2022-08-26T12:27:03.203185",
     "status": "completed"
    },
    "tags": []
   },
   "outputs": [],
   "source": [
    "no_epoch = 50\n",
    "es = EarlyStopping(monitor='val_loss', mode='min', verbose=1, patience=5)\n",
    "an = LearningRateScheduler(lambda x: 1e-3 * 0.991 ** (x+no_epoch))\n",
    "ck = ModelCheckpoint('best_model.h5',\n",
    "                                monitor='val_loss',\n",
    "                                verbose=0,\n",
    "                                save_best_only=True,\n",
    "                                save_weights_only=True)\n"
   ]
  },
  {
   "cell_type": "code",
   "execution_count": 30,
   "id": "brown-healing",
   "metadata": {
    "_kg_hide-input": true,
    "execution": {
     "iopub.execute_input": "2022-08-26T12:27:03.370951Z",
     "iopub.status.busy": "2022-08-26T12:27:03.370163Z",
     "iopub.status.idle": "2022-08-26T12:27:09.613238Z",
     "shell.execute_reply": "2022-08-26T12:27:09.612215Z",
     "shell.execute_reply.started": "2022-08-26T12:24:54.264635Z"
    },
    "papermill": {
     "duration": 6.300516,
     "end_time": "2022-08-26T12:27:09.613391",
     "exception": false,
     "start_time": "2022-08-26T12:27:03.312875",
     "status": "completed"
    },
    "tags": []
   },
   "outputs": [
    {
     "name": "stdout",
     "output_type": "stream",
     "text": [
      "Epoch 1/50\n",
      "13/13 [==============================] - 1s 59ms/step - loss: 114.4146 - accuracy: 0.4519 - val_loss: 8.6511 - val_accuracy: 0.1222\n",
      "Epoch 2/50\n",
      "13/13 [==============================] - 0s 7ms/step - loss: 30.2595 - accuracy: 0.6454 - val_loss: 8.1150 - val_accuracy: 0.1222\n",
      "Epoch 3/50\n",
      "13/13 [==============================] - 0s 7ms/step - loss: 9.0851 - accuracy: 0.7728 - val_loss: 7.7742 - val_accuracy: 0.1222\n",
      "Epoch 4/50\n",
      "13/13 [==============================] - 0s 7ms/step - loss: 2.1766 - accuracy: 0.8569 - val_loss: 7.5536 - val_accuracy: 0.1222\n",
      "Epoch 5/50\n",
      "13/13 [==============================] - 0s 7ms/step - loss: 0.8316 - accuracy: 0.8833 - val_loss: 7.5411 - val_accuracy: 0.1222\n",
      "Epoch 6/50\n",
      "13/13 [==============================] - 0s 7ms/step - loss: 0.6751 - accuracy: 0.8779 - val_loss: 7.5011 - val_accuracy: 0.1222\n",
      "Epoch 7/50\n",
      "13/13 [==============================] - 0s 7ms/step - loss: 0.6872 - accuracy: 0.8702 - val_loss: 7.4132 - val_accuracy: 0.1222\n",
      "Epoch 8/50\n",
      "13/13 [==============================] - 0s 6ms/step - loss: 0.6515 - accuracy: 0.8859 - val_loss: 7.3603 - val_accuracy: 0.1222\n",
      "Epoch 9/50\n",
      "13/13 [==============================] - 0s 6ms/step - loss: 0.6118 - accuracy: 0.9078 - val_loss: 7.3367 - val_accuracy: 0.1222\n",
      "Epoch 10/50\n",
      "13/13 [==============================] - 0s 7ms/step - loss: 0.6113 - accuracy: 0.8785 - val_loss: 7.3218 - val_accuracy: 0.1222\n",
      "Epoch 11/50\n",
      "13/13 [==============================] - 0s 7ms/step - loss: 0.6013 - accuracy: 0.9075 - val_loss: 7.3095 - val_accuracy: 0.1222\n",
      "Epoch 12/50\n",
      "13/13 [==============================] - 0s 7ms/step - loss: 0.6229 - accuracy: 0.8932 - val_loss: 7.2977 - val_accuracy: 0.1222\n",
      "Epoch 13/50\n",
      "13/13 [==============================] - 0s 7ms/step - loss: 0.5897 - accuracy: 0.8932 - val_loss: 7.2826 - val_accuracy: 0.1222\n",
      "Epoch 14/50\n",
      "13/13 [==============================] - 0s 7ms/step - loss: 0.5759 - accuracy: 0.9094 - val_loss: 7.2709 - val_accuracy: 0.1222\n",
      "Epoch 15/50\n",
      "13/13 [==============================] - 0s 7ms/step - loss: 0.5738 - accuracy: 0.9113 - val_loss: 7.2604 - val_accuracy: 0.1222\n",
      "Epoch 16/50\n",
      "13/13 [==============================] - 0s 7ms/step - loss: 0.5729 - accuracy: 0.8904 - val_loss: 7.2502 - val_accuracy: 0.1222\n",
      "Epoch 17/50\n",
      "13/13 [==============================] - 0s 7ms/step - loss: 0.5789 - accuracy: 0.8681 - val_loss: 7.2402 - val_accuracy: 0.1222\n",
      "Epoch 18/50\n",
      "13/13 [==============================] - 0s 7ms/step - loss: 0.5625 - accuracy: 0.8875 - val_loss: 7.2300 - val_accuracy: 0.1222\n",
      "Epoch 19/50\n",
      "13/13 [==============================] - 0s 7ms/step - loss: 0.5585 - accuracy: 0.8834 - val_loss: 7.2190 - val_accuracy: 0.1222\n",
      "Epoch 20/50\n",
      "13/13 [==============================] - 0s 7ms/step - loss: 0.5604 - accuracy: 0.8824 - val_loss: 7.2087 - val_accuracy: 0.1222\n",
      "Epoch 21/50\n",
      "13/13 [==============================] - 0s 7ms/step - loss: 0.6092 - accuracy: 0.9061 - val_loss: 7.1986 - val_accuracy: 0.1222\n",
      "Epoch 22/50\n",
      "13/13 [==============================] - 0s 7ms/step - loss: 0.5424 - accuracy: 0.8885 - val_loss: 7.1890 - val_accuracy: 0.1222\n",
      "Epoch 23/50\n",
      "13/13 [==============================] - 0s 7ms/step - loss: 0.5372 - accuracy: 0.8851 - val_loss: 7.1796 - val_accuracy: 0.1222\n",
      "Epoch 24/50\n",
      "13/13 [==============================] - 0s 7ms/step - loss: 0.5416 - accuracy: 0.8995 - val_loss: 7.1669 - val_accuracy: 0.1222\n",
      "Epoch 25/50\n",
      "13/13 [==============================] - 0s 7ms/step - loss: 0.5228 - accuracy: 0.9019 - val_loss: 7.1566 - val_accuracy: 0.1222\n",
      "Epoch 26/50\n",
      "13/13 [==============================] - 0s 6ms/step - loss: 0.5286 - accuracy: 0.8845 - val_loss: 7.1474 - val_accuracy: 0.1222\n",
      "Epoch 27/50\n",
      "13/13 [==============================] - 0s 7ms/step - loss: 0.5219 - accuracy: 0.8984 - val_loss: 7.1385 - val_accuracy: 0.1222\n",
      "Epoch 28/50\n",
      "13/13 [==============================] - 0s 7ms/step - loss: 0.5073 - accuracy: 0.8983 - val_loss: 7.1297 - val_accuracy: 0.1222\n",
      "Epoch 29/50\n",
      "13/13 [==============================] - 0s 7ms/step - loss: 0.5090 - accuracy: 0.8830 - val_loss: 7.1209 - val_accuracy: 0.1222\n",
      "Epoch 30/50\n",
      "13/13 [==============================] - 0s 7ms/step - loss: 0.5039 - accuracy: 0.8964 - val_loss: 7.1121 - val_accuracy: 0.1222\n",
      "Epoch 31/50\n",
      "13/13 [==============================] - 0s 7ms/step - loss: 0.5009 - accuracy: 0.8898 - val_loss: 7.1034 - val_accuracy: 0.1222\n",
      "Epoch 32/50\n",
      "13/13 [==============================] - 0s 7ms/step - loss: 0.4974 - accuracy: 0.8882 - val_loss: 7.0948 - val_accuracy: 0.1222\n",
      "Epoch 33/50\n",
      "13/13 [==============================] - 0s 6ms/step - loss: 0.4968 - accuracy: 0.8847 - val_loss: 7.0863 - val_accuracy: 0.1222\n",
      "Epoch 34/50\n",
      "13/13 [==============================] - 0s 7ms/step - loss: 0.4782 - accuracy: 0.9082 - val_loss: 7.0777 - val_accuracy: 0.1222\n",
      "Epoch 35/50\n",
      "13/13 [==============================] - 0s 7ms/step - loss: 0.4887 - accuracy: 0.8913 - val_loss: 7.0696 - val_accuracy: 0.1222\n",
      "Epoch 36/50\n",
      "13/13 [==============================] - 0s 7ms/step - loss: 0.4836 - accuracy: 0.8942 - val_loss: 7.0614 - val_accuracy: 0.1222\n",
      "Epoch 37/50\n",
      "13/13 [==============================] - 0s 7ms/step - loss: 0.4871 - accuracy: 0.8884 - val_loss: 7.0535 - val_accuracy: 0.1222\n",
      "Epoch 38/50\n",
      "13/13 [==============================] - 0s 7ms/step - loss: 0.4795 - accuracy: 0.8923 - val_loss: 7.0455 - val_accuracy: 0.1222\n",
      "Epoch 39/50\n",
      "13/13 [==============================] - 0s 7ms/step - loss: 0.4681 - accuracy: 0.8967 - val_loss: 7.0376 - val_accuracy: 0.1222\n",
      "Epoch 40/50\n",
      "13/13 [==============================] - 0s 7ms/step - loss: 0.4744 - accuracy: 0.8921 - val_loss: 7.0298 - val_accuracy: 0.1222\n",
      "Epoch 41/50\n",
      "13/13 [==============================] - 0s 7ms/step - loss: 0.4712 - accuracy: 0.8988 - val_loss: 7.0221 - val_accuracy: 0.1222\n",
      "Epoch 42/50\n",
      "13/13 [==============================] - 0s 7ms/step - loss: 0.4581 - accuracy: 0.8996 - val_loss: 7.0145 - val_accuracy: 0.1222\n",
      "Epoch 43/50\n",
      "13/13 [==============================] - 0s 7ms/step - loss: 0.4656 - accuracy: 0.8948 - val_loss: 7.0069 - val_accuracy: 0.1222\n",
      "Epoch 44/50\n",
      "13/13 [==============================] - 0s 7ms/step - loss: 0.4573 - accuracy: 0.8988 - val_loss: 6.9994 - val_accuracy: 0.1222\n",
      "Epoch 45/50\n",
      "13/13 [==============================] - 0s 7ms/step - loss: 0.4477 - accuracy: 0.9045 - val_loss: 6.9920 - val_accuracy: 0.1222\n",
      "Epoch 46/50\n",
      "13/13 [==============================] - 0s 7ms/step - loss: 0.4483 - accuracy: 0.9061 - val_loss: 6.9845 - val_accuracy: 0.1222\n",
      "Epoch 47/50\n",
      "13/13 [==============================] - 0s 7ms/step - loss: 0.4651 - accuracy: 0.8842 - val_loss: 6.9775 - val_accuracy: 0.1222\n",
      "Epoch 48/50\n",
      "13/13 [==============================] - 0s 7ms/step - loss: 0.4412 - accuracy: 0.9140 - val_loss: 6.9702 - val_accuracy: 0.1222\n",
      "Epoch 49/50\n",
      "13/13 [==============================] - 0s 7ms/step - loss: 0.4543 - accuracy: 0.8999 - val_loss: 6.9635 - val_accuracy: 0.1222\n",
      "Epoch 50/50\n",
      "13/13 [==============================] - 0s 7ms/step - loss: 0.4478 - accuracy: 0.8975 - val_loss: 6.9567 - val_accuracy: 0.1222\n"
     ]
    }
   ],
   "source": [
    "model_history = model.fit(X_train_enc,y_train_enc,validation_data=(X_val_enc, y_val_enc), epochs=no_epoch, batch_size=64,verbose = 1, callbacks = [es, an, ck])"
   ]
  },
  {
   "cell_type": "markdown",
   "id": "empirical-literacy",
   "metadata": {
    "papermill": {
     "duration": 0.082286,
     "end_time": "2022-08-26T12:27:09.778837",
     "exception": false,
     "start_time": "2022-08-26T12:27:09.696551",
     "status": "completed"
    },
    "tags": []
   },
   "source": [
    "Let's verify accuracy of inference using the trained model for: train, validation and test data."
   ]
  },
  {
   "cell_type": "code",
   "execution_count": 31,
   "id": "boring-stock",
   "metadata": {
    "execution": {
     "iopub.execute_input": "2022-08-26T12:27:09.953546Z",
     "iopub.status.busy": "2022-08-26T12:27:09.952526Z",
     "iopub.status.idle": "2022-08-26T12:27:10.138089Z",
     "shell.execute_reply": "2022-08-26T12:27:10.138611Z",
     "shell.execute_reply.started": "2022-08-26T12:24:57.165149Z"
    },
    "papermill": {
     "duration": 0.275214,
     "end_time": "2022-08-26T12:27:10.138841",
     "exception": false,
     "start_time": "2022-08-26T12:27:09.863627",
     "status": "completed"
    },
    "tags": []
   },
   "outputs": [
    {
     "name": "stdout",
     "output_type": "stream",
     "text": [
      "4/4 [==============================] - 0s 2ms/step - loss: 6.1828 - accuracy: 0.1300\n",
      "Test: [6.182823657989502, 0.12999999523162842]\n",
      "3/3 [==============================] - 0s 2ms/step - loss: 6.9567 - accuracy: 0.1222\n",
      "Valid: [6.956660747528076, 0.12222222238779068]\n",
      "26/26 [==============================] - 0s 1ms/step - loss: 0.4423 - accuracy: 0.8914\n",
      "Train: [0.44225236773490906, 0.8913580179214478]\n"
     ]
    }
   ],
   "source": [
    "print(\"Test:\", model.evaluate(X_test_enc,y_test_enc))\n",
    "print(\"Valid:\", model.evaluate(X_val_enc,y_val_enc))\n",
    "print(\"Train:\", model.evaluate(X_train_enc,y_train_enc))"
   ]
  },
  {
   "cell_type": "code",
   "execution_count": 32,
   "id": "dense-southwest",
   "metadata": {
    "_kg_hide-input": true,
    "execution": {
     "iopub.execute_input": "2022-08-26T12:27:10.321898Z",
     "iopub.status.busy": "2022-08-26T12:27:10.321135Z",
     "iopub.status.idle": "2022-08-26T12:27:14.149418Z",
     "shell.execute_reply": "2022-08-26T12:27:14.148908Z",
     "shell.execute_reply.started": "2022-08-26T12:24:57.356048Z"
    },
    "papermill": {
     "duration": 3.924838,
     "end_time": "2022-08-26T12:27:14.149563",
     "exception": false,
     "start_time": "2022-08-26T12:27:10.224725",
     "status": "completed"
    },
    "tags": []
   },
   "outputs": [
    {
     "data": {
      "text/html": [
       "        <script type=\"text/javascript\">\n",
       "        window.PlotlyConfig = {MathJaxConfig: 'local'};\n",
       "        if (window.MathJax) {MathJax.Hub.Config({SVG: {font: \"STIX-Web\"}});}\n",
       "        if (typeof require !== 'undefined') {\n",
       "        require.undef(\"plotly\");\n",
       "        requirejs.config({\n",
       "            paths: {\n",
       "                'plotly': ['https://cdn.plot.ly/plotly-latest.min']\n",
       "            }\n",
       "        });\n",
       "        require(['plotly'], function(Plotly) {\n",
       "            window._Plotly = Plotly;\n",
       "        });\n",
       "        }\n",
       "        </script>\n",
       "        "
      ]
     },
     "metadata": {},
     "output_type": "display_data"
    },
    {
     "data": {
      "text/html": [
       "<div>                            <div id=\"822c6262-a499-45da-8acc-9448d88162e3\" class=\"plotly-graph-div\" style=\"height:525px; width:100%;\"></div>            <script type=\"text/javascript\">                require([\"plotly\"], function(Plotly) {                    window.PLOTLYENV=window.PLOTLYENV || {};                                    if (document.getElementById(\"822c6262-a499-45da-8acc-9448d88162e3\")) {                    Plotly.newPlot(                        \"822c6262-a499-45da-8acc-9448d88162e3\",                        [{\"marker\": {\"color\": \"Green\"}, \"mode\": \"markers+lines\", \"name\": \"Training accuracy\", \"text\": [\"1\", \"2\", \"3\", \"4\", \"5\", \"6\", \"7\", \"8\", \"9\", \"10\", \"11\", \"12\", \"13\", \"14\", \"15\", \"16\", \"17\", \"18\", \"19\", \"20\", \"21\", \"22\", \"23\", \"24\", \"25\", \"26\", \"27\", \"28\", \"29\", \"30\", \"31\", \"32\", \"33\", \"34\", \"35\", \"36\", \"37\", \"38\", \"39\", \"40\", \"41\", \"42\", \"43\", \"44\", \"45\", \"46\", \"47\", \"48\", \"49\", \"50\"], \"type\": \"scatter\", \"x\": [1, 2, 3, 4, 5, 6, 7, 8, 9, 10, 11, 12, 13, 14, 15, 16, 17, 18, 19, 20, 21, 22, 23, 24, 25, 26, 27, 28, 29, 30, 31, 32, 33, 34, 35, 36, 37, 38, 39, 40, 41, 42, 43, 44, 45, 46, 47, 48, 49, 50], \"xaxis\": \"x\", \"y\": [0.5086419582366943, 0.6691358089447021, 0.7975308895111084, 0.8716049194335938, 0.8740741014480591, 0.885185182094574, 0.885185182094574, 0.8876543045043945, 0.8938271403312683, 0.8913580179214478, 0.8925926089286804, 0.8901234865188599, 0.8925926089286804, 0.8925926089286804, 0.8913580179214478, 0.8925926089286804, 0.8925926089286804, 0.8925926089286804, 0.8913580179214478, 0.8925926089286804, 0.8913580179214478, 0.8925926089286804, 0.8938271403312683, 0.8913580179214478, 0.8925926089286804, 0.8925926089286804, 0.8925926089286804, 0.8925926089286804, 0.8925926089286804, 0.8925926089286804, 0.8925926089286804, 0.8913580179214478, 0.8925926089286804, 0.8925926089286804, 0.8925926089286804, 0.8925926089286804, 0.8925926089286804, 0.8925926089286804, 0.8925926089286804, 0.8925926089286804, 0.8925926089286804, 0.8925926089286804, 0.8925926089286804, 0.8925926089286804, 0.8925926089286804, 0.8925926089286804, 0.8925926089286804, 0.8925926089286804, 0.8925926089286804, 0.8925926089286804], \"yaxis\": \"y\"}, {\"marker\": {\"color\": \"Red\"}, \"mode\": \"markers+lines\", \"name\": \"Validation accuracy\", \"text\": [\"1\", \"2\", \"3\", \"4\", \"5\", \"6\", \"7\", \"8\", \"9\", \"10\", \"11\", \"12\", \"13\", \"14\", \"15\", \"16\", \"17\", \"18\", \"19\", \"20\", \"21\", \"22\", \"23\", \"24\", \"25\", \"26\", \"27\", \"28\", \"29\", \"30\", \"31\", \"32\", \"33\", \"34\", \"35\", \"36\", \"37\", \"38\", \"39\", \"40\", \"41\", \"42\", \"43\", \"44\", \"45\", \"46\", \"47\", \"48\", \"49\", \"50\"], \"type\": \"scatter\", \"x\": [1, 2, 3, 4, 5, 6, 7, 8, 9, 10, 11, 12, 13, 14, 15, 16, 17, 18, 19, 20, 21, 22, 23, 24, 25, 26, 27, 28, 29, 30, 31, 32, 33, 34, 35, 36, 37, 38, 39, 40, 41, 42, 43, 44, 45, 46, 47, 48, 49, 50], \"xaxis\": \"x\", \"y\": [0.12222222238779068, 0.12222222238779068, 0.12222222238779068, 0.12222222238779068, 0.12222222238779068, 0.12222222238779068, 0.12222222238779068, 0.12222222238779068, 0.12222222238779068, 0.12222222238779068, 0.12222222238779068, 0.12222222238779068, 0.12222222238779068, 0.12222222238779068, 0.12222222238779068, 0.12222222238779068, 0.12222222238779068, 0.12222222238779068, 0.12222222238779068, 0.12222222238779068, 0.12222222238779068, 0.12222222238779068, 0.12222222238779068, 0.12222222238779068, 0.12222222238779068, 0.12222222238779068, 0.12222222238779068, 0.12222222238779068, 0.12222222238779068, 0.12222222238779068, 0.12222222238779068, 0.12222222238779068, 0.12222222238779068, 0.12222222238779068, 0.12222222238779068, 0.12222222238779068, 0.12222222238779068, 0.12222222238779068, 0.12222222238779068, 0.12222222238779068, 0.12222222238779068, 0.12222222238779068, 0.12222222238779068, 0.12222222238779068, 0.12222222238779068, 0.12222222238779068, 0.12222222238779068, 0.12222222238779068, 0.12222222238779068, 0.12222222238779068], \"yaxis\": \"y\"}, {\"marker\": {\"color\": \"Blue\"}, \"mode\": \"markers+lines\", \"name\": \"Training loss\", \"text\": [\"1\", \"2\", \"3\", \"4\", \"5\", \"6\", \"7\", \"8\", \"9\", \"10\", \"11\", \"12\", \"13\", \"14\", \"15\", \"16\", \"17\", \"18\", \"19\", \"20\", \"21\", \"22\", \"23\", \"24\", \"25\", \"26\", \"27\", \"28\", \"29\", \"30\", \"31\", \"32\", \"33\", \"34\", \"35\", \"36\", \"37\", \"38\", \"39\", \"40\", \"41\", \"42\", \"43\", \"44\", \"45\", \"46\", \"47\", \"48\", \"49\", \"50\"], \"type\": \"scatter\", \"x\": [1, 2, 3, 4, 5, 6, 7, 8, 9, 10, 11, 12, 13, 14, 15, 16, 17, 18, 19, 20, 21, 22, 23, 24, 25, 26, 27, 28, 29, 30, 31, 32, 33, 34, 35, 36, 37, 38, 39, 40, 41, 42, 43, 44, 45, 46, 47, 48, 49, 50], \"xaxis\": \"x2\", \"y\": [81.8599624633789, 24.261327743530273, 6.748247146606445, 1.5044962167739868, 0.873436689376831, 0.6884075403213501, 0.7073589563369751, 0.6334097981452942, 0.6147181987762451, 0.6091259717941284, 0.6037260293960571, 0.6884074807167053, 0.5888644456863403, 0.5815419554710388, 0.5796501040458679, 0.5701073408126831, 0.5674211382865906, 0.5599007606506348, 0.5523125529289246, 0.5529860258102417, 0.5885865092277527, 0.5411949753761292, 0.5329333543777466, 0.5375444293022156, 0.5232168436050415, 0.5238643288612366, 0.5206624865531921, 0.5119009017944336, 0.5030543804168701, 0.5057410597801208, 0.49657633900642395, 0.4992104172706604, 0.48932912945747375, 0.4852352440357208, 0.4861922264099121, 0.48442068696022034, 0.4815378487110138, 0.4770902693271637, 0.472057044506073, 0.47354426980018616, 0.475521445274353, 0.4674096405506134, 0.4653190076351166, 0.4643268287181854, 0.4594471752643585, 0.45626839995384216, 0.45684242248535156, 0.4616380035877228, 0.45883288979530334, 0.4515092372894287], \"yaxis\": \"y2\"}, {\"marker\": {\"color\": \"Magenta\"}, \"mode\": \"markers+lines\", \"name\": \"Validation loss\", \"text\": [\"1\", \"2\", \"3\", \"4\", \"5\", \"6\", \"7\", \"8\", \"9\", \"10\", \"11\", \"12\", \"13\", \"14\", \"15\", \"16\", \"17\", \"18\", \"19\", \"20\", \"21\", \"22\", \"23\", \"24\", \"25\", \"26\", \"27\", \"28\", \"29\", \"30\", \"31\", \"32\", \"33\", \"34\", \"35\", \"36\", \"37\", \"38\", \"39\", \"40\", \"41\", \"42\", \"43\", \"44\", \"45\", \"46\", \"47\", \"48\", \"49\", \"50\"], \"type\": \"scatter\", \"x\": [1, 2, 3, 4, 5, 6, 7, 8, 9, 10, 11, 12, 13, 14, 15, 16, 17, 18, 19, 20, 21, 22, 23, 24, 25, 26, 27, 28, 29, 30, 31, 32, 33, 34, 35, 36, 37, 38, 39, 40, 41, 42, 43, 44, 45, 46, 47, 48, 49, 50], \"xaxis\": \"x2\", \"y\": [8.651095390319824, 8.114982604980469, 7.774208068847656, 7.553598403930664, 7.541092872619629, 7.501095294952393, 7.413166522979736, 7.360299110412598, 7.336690425872803, 7.321818828582764, 7.309499740600586, 7.297740459442139, 7.282623767852783, 7.270928382873535, 7.260350704193115, 7.250203609466553, 7.240219593048096, 7.229991912841797, 7.218981742858887, 7.208709239959717, 7.198569297790527, 7.189032077789307, 7.179631233215332, 7.166910648345947, 7.156616687774658, 7.147387504577637, 7.13853645324707, 7.129659175872803, 7.120892524719238, 7.112067222595215, 7.103360176086426, 7.094825744628906, 7.0862603187561035, 7.077731609344482, 7.069573402404785, 7.061440467834473, 7.053465366363525, 7.045482158660889, 7.037603855133057, 7.029825210571289, 7.022082328796387, 7.01450252532959, 7.00690221786499, 6.999396324157715, 6.991997718811035, 6.984455108642578, 6.977494239807129, 6.970237731933594, 6.963522911071777, 6.956660270690918], \"yaxis\": \"y2\"}],                        {\"annotations\": [{\"font\": {\"size\": 16}, \"showarrow\": false, \"text\": \"Training and validation accuracy\", \"x\": 0.225, \"xanchor\": \"center\", \"xref\": \"paper\", \"y\": 1.0, \"yanchor\": \"bottom\", \"yref\": \"paper\"}, {\"font\": {\"size\": 16}, \"showarrow\": false, \"text\": \"Training and validation loss\", \"x\": 0.775, \"xanchor\": \"center\", \"xref\": \"paper\", \"y\": 1.0, \"yanchor\": \"bottom\", \"yref\": \"paper\"}], \"template\": {\"data\": {\"bar\": [{\"error_x\": {\"color\": \"#2a3f5f\"}, \"error_y\": {\"color\": \"#2a3f5f\"}, \"marker\": {\"line\": {\"color\": \"#E5ECF6\", \"width\": 0.5}}, \"type\": \"bar\"}], \"barpolar\": [{\"marker\": {\"line\": {\"color\": \"#E5ECF6\", \"width\": 0.5}}, \"type\": \"barpolar\"}], \"carpet\": [{\"aaxis\": {\"endlinecolor\": \"#2a3f5f\", \"gridcolor\": \"white\", \"linecolor\": \"white\", \"minorgridcolor\": \"white\", \"startlinecolor\": \"#2a3f5f\"}, \"baxis\": {\"endlinecolor\": \"#2a3f5f\", \"gridcolor\": \"white\", \"linecolor\": \"white\", \"minorgridcolor\": \"white\", \"startlinecolor\": \"#2a3f5f\"}, \"type\": \"carpet\"}], \"choropleth\": [{\"colorbar\": {\"outlinewidth\": 0, \"ticks\": \"\"}, \"type\": \"choropleth\"}], \"contour\": [{\"colorbar\": {\"outlinewidth\": 0, \"ticks\": \"\"}, \"colorscale\": [[0.0, \"#0d0887\"], [0.1111111111111111, \"#46039f\"], [0.2222222222222222, \"#7201a8\"], [0.3333333333333333, \"#9c179e\"], [0.4444444444444444, \"#bd3786\"], [0.5555555555555556, \"#d8576b\"], [0.6666666666666666, \"#ed7953\"], [0.7777777777777778, \"#fb9f3a\"], [0.8888888888888888, \"#fdca26\"], [1.0, \"#f0f921\"]], \"type\": \"contour\"}], \"contourcarpet\": [{\"colorbar\": {\"outlinewidth\": 0, \"ticks\": \"\"}, \"type\": \"contourcarpet\"}], \"heatmap\": [{\"colorbar\": {\"outlinewidth\": 0, \"ticks\": \"\"}, \"colorscale\": [[0.0, \"#0d0887\"], [0.1111111111111111, \"#46039f\"], [0.2222222222222222, \"#7201a8\"], [0.3333333333333333, \"#9c179e\"], [0.4444444444444444, \"#bd3786\"], [0.5555555555555556, \"#d8576b\"], [0.6666666666666666, \"#ed7953\"], [0.7777777777777778, \"#fb9f3a\"], [0.8888888888888888, \"#fdca26\"], [1.0, \"#f0f921\"]], \"type\": \"heatmap\"}], \"heatmapgl\": [{\"colorbar\": {\"outlinewidth\": 0, \"ticks\": \"\"}, \"colorscale\": [[0.0, \"#0d0887\"], [0.1111111111111111, \"#46039f\"], [0.2222222222222222, \"#7201a8\"], [0.3333333333333333, \"#9c179e\"], [0.4444444444444444, \"#bd3786\"], [0.5555555555555556, \"#d8576b\"], [0.6666666666666666, \"#ed7953\"], [0.7777777777777778, \"#fb9f3a\"], [0.8888888888888888, \"#fdca26\"], [1.0, \"#f0f921\"]], \"type\": \"heatmapgl\"}], \"histogram\": [{\"marker\": {\"colorbar\": {\"outlinewidth\": 0, \"ticks\": \"\"}}, \"type\": \"histogram\"}], \"histogram2d\": [{\"colorbar\": {\"outlinewidth\": 0, \"ticks\": \"\"}, \"colorscale\": [[0.0, \"#0d0887\"], [0.1111111111111111, \"#46039f\"], [0.2222222222222222, \"#7201a8\"], [0.3333333333333333, \"#9c179e\"], [0.4444444444444444, \"#bd3786\"], [0.5555555555555556, \"#d8576b\"], [0.6666666666666666, \"#ed7953\"], [0.7777777777777778, \"#fb9f3a\"], [0.8888888888888888, \"#fdca26\"], [1.0, \"#f0f921\"]], \"type\": \"histogram2d\"}], \"histogram2dcontour\": [{\"colorbar\": {\"outlinewidth\": 0, \"ticks\": \"\"}, \"colorscale\": [[0.0, \"#0d0887\"], [0.1111111111111111, \"#46039f\"], [0.2222222222222222, \"#7201a8\"], [0.3333333333333333, \"#9c179e\"], [0.4444444444444444, \"#bd3786\"], [0.5555555555555556, \"#d8576b\"], [0.6666666666666666, \"#ed7953\"], [0.7777777777777778, \"#fb9f3a\"], [0.8888888888888888, \"#fdca26\"], [1.0, \"#f0f921\"]], \"type\": \"histogram2dcontour\"}], \"mesh3d\": [{\"colorbar\": {\"outlinewidth\": 0, \"ticks\": \"\"}, \"type\": \"mesh3d\"}], \"parcoords\": [{\"line\": {\"colorbar\": {\"outlinewidth\": 0, \"ticks\": \"\"}}, \"type\": \"parcoords\"}], \"pie\": [{\"automargin\": true, \"type\": \"pie\"}], \"scatter\": [{\"marker\": {\"colorbar\": {\"outlinewidth\": 0, \"ticks\": \"\"}}, \"type\": \"scatter\"}], \"scatter3d\": [{\"line\": {\"colorbar\": {\"outlinewidth\": 0, \"ticks\": \"\"}}, \"marker\": {\"colorbar\": {\"outlinewidth\": 0, \"ticks\": \"\"}}, \"type\": \"scatter3d\"}], \"scattercarpet\": [{\"marker\": {\"colorbar\": {\"outlinewidth\": 0, \"ticks\": \"\"}}, \"type\": \"scattercarpet\"}], \"scattergeo\": [{\"marker\": {\"colorbar\": {\"outlinewidth\": 0, \"ticks\": \"\"}}, \"type\": \"scattergeo\"}], \"scattergl\": [{\"marker\": {\"colorbar\": {\"outlinewidth\": 0, \"ticks\": \"\"}}, \"type\": \"scattergl\"}], \"scattermapbox\": [{\"marker\": {\"colorbar\": {\"outlinewidth\": 0, \"ticks\": \"\"}}, \"type\": \"scattermapbox\"}], \"scatterpolar\": [{\"marker\": {\"colorbar\": {\"outlinewidth\": 0, \"ticks\": \"\"}}, \"type\": \"scatterpolar\"}], \"scatterpolargl\": [{\"marker\": {\"colorbar\": {\"outlinewidth\": 0, \"ticks\": \"\"}}, \"type\": \"scatterpolargl\"}], \"scatterternary\": [{\"marker\": {\"colorbar\": {\"outlinewidth\": 0, \"ticks\": \"\"}}, \"type\": \"scatterternary\"}], \"surface\": [{\"colorbar\": {\"outlinewidth\": 0, \"ticks\": \"\"}, \"colorscale\": [[0.0, \"#0d0887\"], [0.1111111111111111, \"#46039f\"], [0.2222222222222222, \"#7201a8\"], [0.3333333333333333, \"#9c179e\"], [0.4444444444444444, \"#bd3786\"], [0.5555555555555556, \"#d8576b\"], [0.6666666666666666, \"#ed7953\"], [0.7777777777777778, \"#fb9f3a\"], [0.8888888888888888, \"#fdca26\"], [1.0, \"#f0f921\"]], \"type\": \"surface\"}], \"table\": [{\"cells\": {\"fill\": {\"color\": \"#EBF0F8\"}, \"line\": {\"color\": \"white\"}}, \"header\": {\"fill\": {\"color\": \"#C8D4E3\"}, \"line\": {\"color\": \"white\"}}, \"type\": \"table\"}]}, \"layout\": {\"annotationdefaults\": {\"arrowcolor\": \"#2a3f5f\", \"arrowhead\": 0, \"arrowwidth\": 1}, \"autotypenumbers\": \"strict\", \"coloraxis\": {\"colorbar\": {\"outlinewidth\": 0, \"ticks\": \"\"}}, \"colorscale\": {\"diverging\": [[0, \"#8e0152\"], [0.1, \"#c51b7d\"], [0.2, \"#de77ae\"], [0.3, \"#f1b6da\"], [0.4, \"#fde0ef\"], [0.5, \"#f7f7f7\"], [0.6, \"#e6f5d0\"], [0.7, \"#b8e186\"], [0.8, \"#7fbc41\"], [0.9, \"#4d9221\"], [1, \"#276419\"]], \"sequential\": [[0.0, \"#0d0887\"], [0.1111111111111111, \"#46039f\"], [0.2222222222222222, \"#7201a8\"], [0.3333333333333333, \"#9c179e\"], [0.4444444444444444, \"#bd3786\"], [0.5555555555555556, \"#d8576b\"], [0.6666666666666666, \"#ed7953\"], [0.7777777777777778, \"#fb9f3a\"], [0.8888888888888888, \"#fdca26\"], [1.0, \"#f0f921\"]], \"sequentialminus\": [[0.0, \"#0d0887\"], [0.1111111111111111, \"#46039f\"], [0.2222222222222222, \"#7201a8\"], [0.3333333333333333, \"#9c179e\"], [0.4444444444444444, \"#bd3786\"], [0.5555555555555556, \"#d8576b\"], [0.6666666666666666, \"#ed7953\"], [0.7777777777777778, \"#fb9f3a\"], [0.8888888888888888, \"#fdca26\"], [1.0, \"#f0f921\"]]}, \"colorway\": [\"#636efa\", \"#EF553B\", \"#00cc96\", \"#ab63fa\", \"#FFA15A\", \"#19d3f3\", \"#FF6692\", \"#B6E880\", \"#FF97FF\", \"#FECB52\"], \"font\": {\"color\": \"#2a3f5f\"}, \"geo\": {\"bgcolor\": \"white\", \"lakecolor\": \"white\", \"landcolor\": \"#E5ECF6\", \"showlakes\": true, \"showland\": true, \"subunitcolor\": \"white\"}, \"hoverlabel\": {\"align\": \"left\"}, \"hovermode\": \"closest\", \"mapbox\": {\"style\": \"light\"}, \"paper_bgcolor\": \"white\", \"plot_bgcolor\": \"#E5ECF6\", \"polar\": {\"angularaxis\": {\"gridcolor\": \"white\", \"linecolor\": \"white\", \"ticks\": \"\"}, \"bgcolor\": \"#E5ECF6\", \"radialaxis\": {\"gridcolor\": \"white\", \"linecolor\": \"white\", \"ticks\": \"\"}}, \"scene\": {\"xaxis\": {\"backgroundcolor\": \"#E5ECF6\", \"gridcolor\": \"white\", \"gridwidth\": 2, \"linecolor\": \"white\", \"showbackground\": true, \"ticks\": \"\", \"zerolinecolor\": \"white\"}, \"yaxis\": {\"backgroundcolor\": \"#E5ECF6\", \"gridcolor\": \"white\", \"gridwidth\": 2, \"linecolor\": \"white\", \"showbackground\": true, \"ticks\": \"\", \"zerolinecolor\": \"white\"}, \"zaxis\": {\"backgroundcolor\": \"#E5ECF6\", \"gridcolor\": \"white\", \"gridwidth\": 2, \"linecolor\": \"white\", \"showbackground\": true, \"ticks\": \"\", \"zerolinecolor\": \"white\"}}, \"shapedefaults\": {\"line\": {\"color\": \"#2a3f5f\"}}, \"ternary\": {\"aaxis\": {\"gridcolor\": \"white\", \"linecolor\": \"white\", \"ticks\": \"\"}, \"baxis\": {\"gridcolor\": \"white\", \"linecolor\": \"white\", \"ticks\": \"\"}, \"bgcolor\": \"#E5ECF6\", \"caxis\": {\"gridcolor\": \"white\", \"linecolor\": \"white\", \"ticks\": \"\"}}, \"title\": {\"x\": 0.05}, \"xaxis\": {\"automargin\": true, \"gridcolor\": \"white\", \"linecolor\": \"white\", \"ticks\": \"\", \"title\": {\"standoff\": 15}, \"zerolinecolor\": \"white\", \"zerolinewidth\": 2}, \"yaxis\": {\"automargin\": true, \"gridcolor\": \"white\", \"linecolor\": \"white\", \"ticks\": \"\", \"title\": {\"standoff\": 15}, \"zerolinecolor\": \"white\", \"zerolinewidth\": 2}}}, \"xaxis\": {\"anchor\": \"y\", \"domain\": [0.0, 0.45], \"title\": {\"text\": \"Epoch\"}}, \"xaxis2\": {\"anchor\": \"y2\", \"domain\": [0.55, 1.0], \"title\": {\"text\": \"Epoch\"}}, \"yaxis\": {\"anchor\": \"x\", \"domain\": [0.0, 1.0], \"range\": [0, 1], \"title\": {\"text\": \"Accuracy\"}}, \"yaxis2\": {\"anchor\": \"x2\", \"domain\": [0.0, 1.0], \"range\": [0, 1], \"title\": {\"text\": \"Loss\"}}},                        {\"responsive\": true}                    ).then(function(){\n",
       "                            \n",
       "var gd = document.getElementById('822c6262-a499-45da-8acc-9448d88162e3');\n",
       "var x = new MutationObserver(function (mutations, observer) {{\n",
       "        var display = window.getComputedStyle(gd).display;\n",
       "        if (!display || display === 'none') {{\n",
       "            console.log([gd, 'removed!']);\n",
       "            Plotly.purge(gd);\n",
       "            observer.disconnect();\n",
       "        }}\n",
       "}});\n",
       "\n",
       "// Listen for the removal of the full notebook cells\n",
       "var notebookContainer = gd.closest('#notebook-container');\n",
       "if (notebookContainer) {{\n",
       "    x.observe(notebookContainer, {childList: true});\n",
       "}}\n",
       "\n",
       "// Listen for the clearing of the current output cell\n",
       "var outputEl = gd.closest('.output');\n",
       "if (outputEl) {{\n",
       "    x.observe(outputEl, {childList: true});\n",
       "}}\n",
       "\n",
       "                        })                };                });            </script>        </div>"
      ]
     },
     "metadata": {},
     "output_type": "display_data"
    }
   ],
   "source": [
    "import plotly.graph_objs as go\n",
    "import plotly.figure_factory as ff\n",
    "from plotly import tools, subplots\n",
    "from plotly.offline import download_plotlyjs, init_notebook_mode, plot, iplot\n",
    "def create_trace(x,y,ylabel,color):\n",
    "        trace = go.Scatter(\n",
    "            x = x,y = y,\n",
    "            name=ylabel,\n",
    "            marker=dict(color=color),\n",
    "            mode = \"markers+lines\",\n",
    "            text=x\n",
    "        )\n",
    "        return trace\n",
    "    \n",
    "def plot_accuracy_and_loss(train_model):\n",
    "    hist = train_model.history\n",
    "    acc = hist['accuracy']\n",
    "    val_acc = hist['val_accuracy']\n",
    "    loss = hist['loss']\n",
    "    val_loss = hist['val_loss']\n",
    "    epochs = list(range(1,len(acc)+1))\n",
    "    #define the traces\n",
    "    trace_ta = create_trace(epochs,acc,\"Training accuracy\", \"Green\")\n",
    "    trace_va = create_trace(epochs,val_acc,\"Validation accuracy\", \"Red\")\n",
    "    trace_tl = create_trace(epochs,loss,\"Training loss\", \"Blue\")\n",
    "    trace_vl = create_trace(epochs,val_loss,\"Validation loss\", \"Magenta\")\n",
    "    fig = subplots.make_subplots(rows=1,cols=2, subplot_titles=('Training and validation accuracy',\n",
    "                                                             'Training and validation loss'))\n",
    "    #add traces to the figure\n",
    "    fig.append_trace(trace_ta,1,1)\n",
    "    fig.append_trace(trace_va,1,1)\n",
    "    fig.append_trace(trace_tl,1,2)\n",
    "    fig.append_trace(trace_vl,1,2)\n",
    "    #set the layout for the figure\n",
    "    fig['layout']['xaxis'].update(title = 'Epoch')\n",
    "    fig['layout']['xaxis2'].update(title = 'Epoch')\n",
    "    fig['layout']['yaxis'].update(title = 'Accuracy', range=[0,1])\n",
    "    fig['layout']['yaxis2'].update(title = 'Loss', range=[0,1])\n",
    "    #plot\n",
    "    iplot(fig, filename='accuracy-loss')\n",
    "\n",
    "plot_accuracy_and_loss(model_history)"
   ]
  },
  {
   "cell_type": "code",
   "execution_count": 33,
   "id": "blocked-demand",
   "metadata": {
    "_kg_hide-input": true,
    "execution": {
     "iopub.execute_input": "2022-08-26T12:27:14.325391Z",
     "iopub.status.busy": "2022-08-26T12:27:14.324765Z",
     "iopub.status.idle": "2022-08-26T12:27:14.330392Z",
     "shell.execute_reply": "2022-08-26T12:27:14.330916Z",
     "shell.execute_reply.started": "2022-08-26T12:24:59.110886Z"
    },
    "papermill": {
     "duration": 0.094524,
     "end_time": "2022-08-26T12:27:14.331098",
     "exception": false,
     "start_time": "2022-08-26T12:27:14.236574",
     "status": "completed"
    },
    "tags": []
   },
   "outputs": [],
   "source": [
    "def test_accuracy_report(model, X, y, title=\"\"):\n",
    "    print(title)\n",
    "    predicted = model.predict(X)\n",
    "    predicted = np.round(predicted)\n",
    "    truth = y\n",
    "    print(metrics.classification_report(truth, predicted, target_names=[\"Negative\", \"Positive\"])) \n",
    "    res = model.evaluate(X, y, verbose=0)\n",
    "    print('Loss function: %s, accuracy:' % res[0], res[1])"
   ]
  },
  {
   "cell_type": "code",
   "execution_count": 34,
   "id": "damaged-cambridge",
   "metadata": {
    "_kg_hide-input": true,
    "execution": {
     "iopub.execute_input": "2022-08-26T12:27:14.508011Z",
     "iopub.status.busy": "2022-08-26T12:27:14.507341Z",
     "iopub.status.idle": "2022-08-26T12:27:14.677007Z",
     "shell.execute_reply": "2022-08-26T12:27:14.676315Z",
     "shell.execute_reply.started": "2022-08-26T12:24:59.118690Z"
    },
    "papermill": {
     "duration": 0.260084,
     "end_time": "2022-08-26T12:27:14.677168",
     "exception": false,
     "start_time": "2022-08-26T12:27:14.417084",
     "status": "completed"
    },
    "tags": []
   },
   "outputs": [
    {
     "name": "stdout",
     "output_type": "stream",
     "text": [
      "Test set (how well model generalize for fresh data)\n",
      "              precision    recall  f1-score   support\n",
      "\n",
      "    Negative       0.00      0.00      0.00        87\n",
      "    Positive       0.13      1.00      0.23        13\n",
      "\n",
      "    accuracy                           0.13       100\n",
      "   macro avg       0.07      0.50      0.12       100\n",
      "weighted avg       0.02      0.13      0.03       100\n",
      "\n",
      "Loss function: 6.182823657989502, accuracy: 0.12999999523162842\n"
     ]
    }
   ],
   "source": [
    "test_accuracy_report(model, X_test_enc, y_test_enc, \"Test set (how well model generalize for fresh data)\")"
   ]
  },
  {
   "cell_type": "code",
   "execution_count": 35,
   "id": "rapid-cleaners",
   "metadata": {
    "_kg_hide-input": true,
    "execution": {
     "iopub.execute_input": "2022-08-26T12:27:14.862594Z",
     "iopub.status.busy": "2022-08-26T12:27:14.861593Z",
     "iopub.status.idle": "2022-08-26T12:27:14.959955Z",
     "shell.execute_reply": "2022-08-26T12:27:14.959257Z",
     "shell.execute_reply.started": "2022-08-26T12:24:59.307727Z"
    },
    "papermill": {
     "duration": 0.194317,
     "end_time": "2022-08-26T12:27:14.960106",
     "exception": false,
     "start_time": "2022-08-26T12:27:14.765789",
     "status": "completed"
    },
    "tags": []
   },
   "outputs": [
    {
     "name": "stdout",
     "output_type": "stream",
     "text": [
      "Validation set (how well model perform with validation data)\n",
      "              precision    recall  f1-score   support\n",
      "\n",
      "    Negative       0.00      0.00      0.00        79\n",
      "    Positive       0.12      1.00      0.22        11\n",
      "\n",
      "    accuracy                           0.12        90\n",
      "   macro avg       0.06      0.50      0.11        90\n",
      "weighted avg       0.01      0.12      0.03        90\n",
      "\n",
      "Loss function: 6.956660747528076, accuracy: 0.12222222238779068\n"
     ]
    }
   ],
   "source": [
    "test_accuracy_report(model, X_val_enc, y_val_enc, \"Validation set (how well model perform with validation data)\")"
   ]
  },
  {
   "cell_type": "code",
   "execution_count": 36,
   "id": "collective-tactics",
   "metadata": {
    "_kg_hide-input": true,
    "execution": {
     "iopub.execute_input": "2022-08-26T12:27:15.140743Z",
     "iopub.status.busy": "2022-08-26T12:27:15.140047Z",
     "iopub.status.idle": "2022-08-26T12:27:15.268331Z",
     "shell.execute_reply": "2022-08-26T12:27:15.268967Z",
     "shell.execute_reply.started": "2022-08-26T12:24:59.413888Z"
    },
    "papermill": {
     "duration": 0.221122,
     "end_time": "2022-08-26T12:27:15.269147",
     "exception": false,
     "start_time": "2022-08-26T12:27:15.048025",
     "status": "completed"
    },
    "tags": []
   },
   "outputs": [
    {
     "name": "stdout",
     "output_type": "stream",
     "text": [
      "Train set (how well model learns its own data)\n",
      "              precision    recall  f1-score   support\n",
      "\n",
      "    Negative       0.89      1.00      0.94       723\n",
      "    Positive       0.00      0.00      0.00        87\n",
      "\n",
      "    accuracy                           0.89       810\n",
      "   macro avg       0.45      0.50      0.47       810\n",
      "weighted avg       0.80      0.89      0.84       810\n",
      "\n",
      "Loss function: 0.44225236773490906, accuracy: 0.8913580179214478\n"
     ]
    }
   ],
   "source": [
    "test_accuracy_report(model, X_train_enc, y_train_enc, \"Train set (how well model learns its own data)\")"
   ]
  },
  {
   "cell_type": "markdown",
   "id": "about-partition",
   "metadata": {
    "papermill": {
     "duration": 0.096971,
     "end_time": "2022-08-26T12:27:15.452370",
     "exception": false,
     "start_time": "2022-08-26T12:27:15.355399",
     "status": "completed"
    },
    "tags": []
   },
   "source": [
    "## <a id=\"6\">Conclusions and future work</a>\n",
    "\n",
    "\n",
    "### Conclusions\n",
    "\n",
    "We used sentiment analysis libraries to calculate negtive, positive, neutral, respective polarity and subjectivity of sentiment. We used the compound factor from {postive, negative, neutral} sentiment score to label data.\n",
    "We split available data in train, validation and test data.\n",
    "We used train and validation data to train and validate a model.\n",
    "\n",
    "Then we checked the accuracy of prediction on test data (not used during training or validation) with the trained model.\n",
    "We obtained a **88%** accuracy of the sentiment polarity score prediction.\n",
    "\n",
    "### Future work\n",
    "\n",
    "We will manually label data for better performance of the training. We will train a model with the manual labeled data and apply the model to predict sentiment score for the new data, not used in the train. We will analyze next the correlation between the sentiment score obtained using pre-trained models from libraries with the sentiment obtained by applying the model.\n",
    "The model itself can be further much improve by using the following techniques:\n",
    "- Use a DL model with word embeddings Bidirectional LSTM layers;\n",
    "- Use a transformed type model;"
   ]
  }
 ],
 "metadata": {
  "kernelspec": {
   "display_name": "Python 3 (ipykernel)",
   "language": "python",
   "name": "python3"
  },
  "language_info": {
   "codemirror_mode": {
    "name": "ipython",
    "version": 3
   },
   "file_extension": ".py",
   "mimetype": "text/x-python",
   "name": "python",
   "nbconvert_exporter": "python",
   "pygments_lexer": "ipython3",
   "version": "3.10.6"
  },
  "papermill": {
   "default_parameters": {},
   "duration": 76.944383,
   "end_time": "2022-08-26T12:27:17.590406",
   "environment_variables": {},
   "exception": null,
   "input_path": "__notebook__.ipynb",
   "output_path": "__notebook__.ipynb",
   "parameters": {},
   "start_time": "2022-08-26T12:26:00.646023",
   "version": "2.3.3"
  }
 },
 "nbformat": 4,
 "nbformat_minor": 5
}
